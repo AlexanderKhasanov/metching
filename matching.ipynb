{
  "cells": [
    {
      "cell_type": "markdown",
      "metadata": {},
      "source": [
        "**Цель проекта:**  \n",
        "Разработать алгоритм, который для товаров будет подбирать 5 наиболее похожих товаров из сформированной базы. Оценка качества производится по метрике accuracy@5  \n",
        "**Входные данные:**\n",
        "1. База товаров, каждый из которых представлен как уникальный id и вектор признаков размерностью 72  \n",
        "2. Обучающий датасет - один товар, для которого известен уникальный id, вектор признаков и id товара, который максимально похож на него  \n",
        "3. Тестовый датасет - датасет с товарами, для которых нужно найти наиболее близкие товары из базы  \n",
        "4. Правильные ответы для тестового датасета"
      ]
    },
    {
      "cell_type": "markdown",
      "metadata": {},
      "source": [
        "При решении использовалась библиотека FAISS(использовалась версия для обучения на GPU)"
      ]
    },
    {
      "cell_type": "markdown",
      "metadata": {
        "id": "cpnZHWq_dV4O"
      },
      "source": [
        "# Подготовка к работе"
      ]
    },
    {
      "cell_type": "markdown",
      "metadata": {
        "id": "-CDU2nORdclF"
      },
      "source": [
        "## Импорты"
      ]
    },
    {
      "cell_type": "code",
      "execution_count": 2,
      "metadata": {
        "id": "cqcLh2OMcIbL"
      },
      "outputs": [],
      "source": [
        "import pandas as pd\n",
        "import numpy as np\n",
        "import seaborn as sns\n",
        "import matplotlib.pyplot as plt\n",
        "import faiss\n",
        "from statsmodels.stats.outliers_influence import variance_inflation_factor\n",
        "from tqdm.notebook import tqdm\n",
        "from sklearn.preprocessing import RobustScaler, StandardScaler, MinMaxScaler"
      ]
    },
    {
      "cell_type": "code",
      "execution_count": 3,
      "metadata": {
        "id": "SKwxGoJhclOy"
      },
      "outputs": [],
      "source": [
        "import zipfile\n",
        "import requests\n",
        "from urllib.parse import urlencode\n"
      ]
    },
    {
      "cell_type": "code",
      "execution_count": 4,
      "metadata": {},
      "outputs": [],
      "source": [
        "IS_LOCAL = True"
      ]
    },
    {
      "cell_type": "markdown",
      "metadata": {
        "id": "h1vHjJjscOgI"
      },
      "source": [
        "## Загрузка датасета из yandex.drive на виртуальный диск Colab"
      ]
    },
    {
      "cell_type": "code",
      "execution_count": 5,
      "metadata": {
        "id": "6J4oXfBfcY2f"
      },
      "outputs": [],
      "source": [
        "if not IS_LOCAL:\n",
        "    base_url = 'https://cloud-api.yandex.net/v1/disk/public/resources/download?'\n",
        "    public_key = 'https://disk.yandex.ru/d/BBEphK0EHSJ5Jw'\n",
        "\n",
        "    final_url = base_url + urlencode(dict(public_key=public_key))\n",
        "    response = requests.get(final_url)\n",
        "    download_url = response.json()['href']\n",
        "\n",
        "    download_response = requests.get(download_url)\n",
        "    with open('data.zip', 'wb') as f:   # Здесь укажите нужный путь к файлу\n",
        "        f.write(download_response.content)\n",
        "\n",
        "    # Укажите путь к zip-архиву\n",
        "    zip_path = '/content/data.zip'\n",
        "\n",
        "    # Распаковка zip-архива\n",
        "    with zipfile.ZipFile(zip_path, 'r') as zip_ref:\n",
        "        zip_ref.extractall()\n",
        "        \n",
        "    root_data = '/content'\n",
        "else:\n",
        "    root_data = './data'"
      ]
    },
    {
      "cell_type": "code",
      "execution_count": 6,
      "metadata": {
        "id": "v8h4RgHcxSit"
      },
      "outputs": [],
      "source": [
        "dict_base = {}\n",
        "for i in range(72):\n",
        "    dict_base[str(i)] = 'float32'\n",
        "dict_base\n",
        "dict_train = dict_base.copy()\n",
        "dict_train['Target'] = 'str'"
      ]
    },
    {
      "cell_type": "markdown",
      "metadata": {
        "id": "bDDGXo-2cwOn"
      },
      "source": [
        "# Загрузка данных и первичный обзор данных"
      ]
    },
    {
      "cell_type": "markdown",
      "metadata": {
        "id": "LOI46AaErTZh"
      },
      "source": [
        "## base dataset"
      ]
    },
    {
      "cell_type": "code",
      "execution_count": 7,
      "metadata": {
        "id": "9xVt4xnbqMH8"
      },
      "outputs": [],
      "source": [
        "dict_base = {}\n",
        "for i in range(72):\n",
        "    dict_base[str(i)] = 'float32'\n",
        "dict_base\n",
        "dict_train = dict_base.copy()\n",
        "dict_train['Target'] = 'str'"
      ]
    },
    {
      "cell_type": "code",
      "execution_count": 8,
      "metadata": {
        "id": "D8JXyM_5cf9I"
      },
      "outputs": [],
      "source": [
        "df_base = pd.read_csv(f'{root_data}/base.csv', index_col=0, dtype=dict_base)"
      ]
    },
    {
      "cell_type": "code",
      "execution_count": 9,
      "metadata": {
        "colab": {
          "base_uri": "https://localhost:8080/",
          "height": 547
        },
        "id": "NSLzr_tu5eOd",
        "outputId": "227d6b96-e908-4d0e-c2f2-e56afbeaf5c7"
      },
      "outputs": [
        {
          "name": "stdout",
          "output_type": "stream",
          "text": [
            "<class 'pandas.core.frame.DataFrame'>\n",
            "Index: 2918139 entries, 0-base to 4744766-base\n",
            "Data columns (total 3 columns):\n",
            " #   Column  Dtype  \n",
            "---  ------  -----  \n",
            " 0   0       float32\n",
            " 1   1       float32\n",
            " 2   2       float32\n",
            "dtypes: float32(3)\n",
            "memory usage: 55.7+ MB\n"
          ]
        },
        {
          "data": {
            "text/html": [
              "<div>\n",
              "<style scoped>\n",
              "    .dataframe tbody tr th:only-of-type {\n",
              "        vertical-align: middle;\n",
              "    }\n",
              "\n",
              "    .dataframe tbody tr th {\n",
              "        vertical-align: top;\n",
              "    }\n",
              "\n",
              "    .dataframe thead th {\n",
              "        text-align: right;\n",
              "    }\n",
              "</style>\n",
              "<table border=\"1\" class=\"dataframe\">\n",
              "  <thead>\n",
              "    <tr style=\"text-align: right;\">\n",
              "      <th></th>\n",
              "      <th>0</th>\n",
              "      <th>1</th>\n",
              "      <th>2</th>\n",
              "      <th>3</th>\n",
              "      <th>4</th>\n",
              "      <th>5</th>\n",
              "      <th>6</th>\n",
              "      <th>7</th>\n",
              "      <th>8</th>\n",
              "      <th>9</th>\n",
              "      <th>...</th>\n",
              "      <th>62</th>\n",
              "      <th>63</th>\n",
              "      <th>64</th>\n",
              "      <th>65</th>\n",
              "      <th>66</th>\n",
              "      <th>67</th>\n",
              "      <th>68</th>\n",
              "      <th>69</th>\n",
              "      <th>70</th>\n",
              "      <th>71</th>\n",
              "    </tr>\n",
              "    <tr>\n",
              "      <th>Id</th>\n",
              "      <th></th>\n",
              "      <th></th>\n",
              "      <th></th>\n",
              "      <th></th>\n",
              "      <th></th>\n",
              "      <th></th>\n",
              "      <th></th>\n",
              "      <th></th>\n",
              "      <th></th>\n",
              "      <th></th>\n",
              "      <th></th>\n",
              "      <th></th>\n",
              "      <th></th>\n",
              "      <th></th>\n",
              "      <th></th>\n",
              "      <th></th>\n",
              "      <th></th>\n",
              "      <th></th>\n",
              "      <th></th>\n",
              "      <th></th>\n",
              "      <th></th>\n",
              "    </tr>\n",
              "  </thead>\n",
              "  <tbody>\n",
              "    <tr>\n",
              "      <th>0-base</th>\n",
              "      <td>-115.083893</td>\n",
              "      <td>11.152912</td>\n",
              "      <td>-64.426758</td>\n",
              "      <td>-118.880890</td>\n",
              "      <td>216.482437</td>\n",
              "      <td>-104.698059</td>\n",
              "      <td>-469.070587</td>\n",
              "      <td>44.348083</td>\n",
              "      <td>120.915344</td>\n",
              "      <td>181.449707</td>\n",
              "      <td>...</td>\n",
              "      <td>-42.808693</td>\n",
              "      <td>38.800827</td>\n",
              "      <td>-151.762177</td>\n",
              "      <td>-74.389091</td>\n",
              "      <td>63.666340</td>\n",
              "      <td>-4.703861</td>\n",
              "      <td>92.933609</td>\n",
              "      <td>115.269188</td>\n",
              "      <td>-112.756638</td>\n",
              "      <td>-60.830353</td>\n",
              "    </tr>\n",
              "    <tr>\n",
              "      <th>1-base</th>\n",
              "      <td>-34.562202</td>\n",
              "      <td>13.332763</td>\n",
              "      <td>-69.787613</td>\n",
              "      <td>-166.533478</td>\n",
              "      <td>57.680607</td>\n",
              "      <td>-86.098373</td>\n",
              "      <td>-85.076668</td>\n",
              "      <td>-35.637436</td>\n",
              "      <td>119.718636</td>\n",
              "      <td>195.234192</td>\n",
              "      <td>...</td>\n",
              "      <td>-117.767525</td>\n",
              "      <td>41.099998</td>\n",
              "      <td>-157.829407</td>\n",
              "      <td>-94.446808</td>\n",
              "      <td>68.202110</td>\n",
              "      <td>24.346846</td>\n",
              "      <td>179.937927</td>\n",
              "      <td>116.834000</td>\n",
              "      <td>-84.888939</td>\n",
              "      <td>-59.524609</td>\n",
              "    </tr>\n",
              "    <tr>\n",
              "      <th>2-base</th>\n",
              "      <td>-54.233746</td>\n",
              "      <td>6.379371</td>\n",
              "      <td>-29.210136</td>\n",
              "      <td>-133.413834</td>\n",
              "      <td>150.895828</td>\n",
              "      <td>-99.435326</td>\n",
              "      <td>52.554794</td>\n",
              "      <td>62.381706</td>\n",
              "      <td>128.951447</td>\n",
              "      <td>164.381470</td>\n",
              "      <td>...</td>\n",
              "      <td>-76.397797</td>\n",
              "      <td>46.011803</td>\n",
              "      <td>-207.144424</td>\n",
              "      <td>127.325569</td>\n",
              "      <td>65.566177</td>\n",
              "      <td>66.325684</td>\n",
              "      <td>81.073486</td>\n",
              "      <td>116.594154</td>\n",
              "      <td>-1074.464844</td>\n",
              "      <td>-32.527206</td>\n",
              "    </tr>\n",
              "    <tr>\n",
              "      <th>3-base</th>\n",
              "      <td>-87.520126</td>\n",
              "      <td>4.037884</td>\n",
              "      <td>-87.803032</td>\n",
              "      <td>-185.067627</td>\n",
              "      <td>76.369537</td>\n",
              "      <td>-58.985165</td>\n",
              "      <td>-383.182831</td>\n",
              "      <td>-33.611237</td>\n",
              "      <td>122.031914</td>\n",
              "      <td>136.233582</td>\n",
              "      <td>...</td>\n",
              "      <td>-70.647942</td>\n",
              "      <td>-6.358921</td>\n",
              "      <td>-147.201050</td>\n",
              "      <td>-37.692749</td>\n",
              "      <td>66.202888</td>\n",
              "      <td>-20.566910</td>\n",
              "      <td>137.206940</td>\n",
              "      <td>117.474098</td>\n",
              "      <td>-1074.464844</td>\n",
              "      <td>-72.915489</td>\n",
              "    </tr>\n",
              "    <tr>\n",
              "      <th>4-base</th>\n",
              "      <td>-72.743851</td>\n",
              "      <td>6.522048</td>\n",
              "      <td>43.671265</td>\n",
              "      <td>-140.608032</td>\n",
              "      <td>5.820023</td>\n",
              "      <td>-112.074081</td>\n",
              "      <td>-397.711273</td>\n",
              "      <td>45.182499</td>\n",
              "      <td>122.167183</td>\n",
              "      <td>112.119064</td>\n",
              "      <td>...</td>\n",
              "      <td>-57.199104</td>\n",
              "      <td>56.642403</td>\n",
              "      <td>-159.351837</td>\n",
              "      <td>85.944725</td>\n",
              "      <td>66.766319</td>\n",
              "      <td>-2.505783</td>\n",
              "      <td>65.315285</td>\n",
              "      <td>135.051590</td>\n",
              "      <td>-1074.464844</td>\n",
              "      <td>0.319401</td>\n",
              "    </tr>\n",
              "  </tbody>\n",
              "</table>\n",
              "<p>5 rows × 72 columns</p>\n",
              "</div>"
            ],
            "text/plain": [
              "                 0          1          2           3           4           5  \\\n",
              "Id                                                                             \n",
              "0-base -115.083893  11.152912 -64.426758 -118.880890  216.482437 -104.698059   \n",
              "1-base  -34.562202  13.332763 -69.787613 -166.533478   57.680607  -86.098373   \n",
              "2-base  -54.233746   6.379371 -29.210136 -133.413834  150.895828  -99.435326   \n",
              "3-base  -87.520126   4.037884 -87.803032 -185.067627   76.369537  -58.985165   \n",
              "4-base  -72.743851   6.522048  43.671265 -140.608032    5.820023 -112.074081   \n",
              "\n",
              "                 6          7           8           9  ...          62  \\\n",
              "Id                                                     ...               \n",
              "0-base -469.070587  44.348083  120.915344  181.449707  ...  -42.808693   \n",
              "1-base  -85.076668 -35.637436  119.718636  195.234192  ... -117.767525   \n",
              "2-base   52.554794  62.381706  128.951447  164.381470  ...  -76.397797   \n",
              "3-base -383.182831 -33.611237  122.031914  136.233582  ...  -70.647942   \n",
              "4-base -397.711273  45.182499  122.167183  112.119064  ...  -57.199104   \n",
              "\n",
              "               63          64          65         66         67          68  \\\n",
              "Id                                                                            \n",
              "0-base  38.800827 -151.762177  -74.389091  63.666340  -4.703861   92.933609   \n",
              "1-base  41.099998 -157.829407  -94.446808  68.202110  24.346846  179.937927   \n",
              "2-base  46.011803 -207.144424  127.325569  65.566177  66.325684   81.073486   \n",
              "3-base  -6.358921 -147.201050  -37.692749  66.202888 -20.566910  137.206940   \n",
              "4-base  56.642403 -159.351837   85.944725  66.766319  -2.505783   65.315285   \n",
              "\n",
              "                69           70         71  \n",
              "Id                                          \n",
              "0-base  115.269188  -112.756638 -60.830353  \n",
              "1-base  116.834000   -84.888939 -59.524609  \n",
              "2-base  116.594154 -1074.464844 -32.527206  \n",
              "3-base  117.474098 -1074.464844 -72.915489  \n",
              "4-base  135.051590 -1074.464844   0.319401  \n",
              "\n",
              "[5 rows x 72 columns]"
            ]
          },
          "execution_count": 9,
          "metadata": {},
          "output_type": "execute_result"
        }
      ],
      "source": [
        "df_base[['0', '1', '2']].info()\n",
        "df_base.head()"
      ]
    },
    {
      "cell_type": "markdown",
      "metadata": {
        "id": "hGQgpatZc3rI"
      },
      "source": [
        "## train dataset"
      ]
    },
    {
      "cell_type": "code",
      "execution_count": 10,
      "metadata": {
        "id": "YBZzcuNCc2ek"
      },
      "outputs": [],
      "source": [
        "df_train = pd.read_csv(f'{root_data}/train.csv', index_col=0, dtype=dict_train)"
      ]
    },
    {
      "cell_type": "code",
      "execution_count": 11,
      "metadata": {
        "colab": {
          "base_uri": "https://localhost:8080/",
          "height": 564
        },
        "id": "7otVp_R66Zpe",
        "outputId": "ff85d50f-02a6-41c8-d735-de3a7ebdf744"
      },
      "outputs": [
        {
          "name": "stdout",
          "output_type": "stream",
          "text": [
            "<class 'pandas.core.frame.DataFrame'>\n",
            "Index: 100000 entries, 0-query to 99999-query\n",
            "Data columns (total 4 columns):\n",
            " #   Column  Non-Null Count   Dtype  \n",
            "---  ------  --------------   -----  \n",
            " 0   0       100000 non-null  float32\n",
            " 1   1       100000 non-null  float32\n",
            " 2   2       100000 non-null  float32\n",
            " 3   Target  100000 non-null  object \n",
            "dtypes: float32(3), object(1)\n",
            "memory usage: 2.7+ MB\n"
          ]
        },
        {
          "data": {
            "text/html": [
              "<div>\n",
              "<style scoped>\n",
              "    .dataframe tbody tr th:only-of-type {\n",
              "        vertical-align: middle;\n",
              "    }\n",
              "\n",
              "    .dataframe tbody tr th {\n",
              "        vertical-align: top;\n",
              "    }\n",
              "\n",
              "    .dataframe thead th {\n",
              "        text-align: right;\n",
              "    }\n",
              "</style>\n",
              "<table border=\"1\" class=\"dataframe\">\n",
              "  <thead>\n",
              "    <tr style=\"text-align: right;\">\n",
              "      <th></th>\n",
              "      <th>0</th>\n",
              "      <th>1</th>\n",
              "      <th>2</th>\n",
              "      <th>3</th>\n",
              "      <th>4</th>\n",
              "      <th>5</th>\n",
              "      <th>6</th>\n",
              "      <th>7</th>\n",
              "      <th>8</th>\n",
              "      <th>9</th>\n",
              "      <th>...</th>\n",
              "      <th>63</th>\n",
              "      <th>64</th>\n",
              "      <th>65</th>\n",
              "      <th>66</th>\n",
              "      <th>67</th>\n",
              "      <th>68</th>\n",
              "      <th>69</th>\n",
              "      <th>70</th>\n",
              "      <th>71</th>\n",
              "      <th>Target</th>\n",
              "    </tr>\n",
              "    <tr>\n",
              "      <th>Id</th>\n",
              "      <th></th>\n",
              "      <th></th>\n",
              "      <th></th>\n",
              "      <th></th>\n",
              "      <th></th>\n",
              "      <th></th>\n",
              "      <th></th>\n",
              "      <th></th>\n",
              "      <th></th>\n",
              "      <th></th>\n",
              "      <th></th>\n",
              "      <th></th>\n",
              "      <th></th>\n",
              "      <th></th>\n",
              "      <th></th>\n",
              "      <th></th>\n",
              "      <th></th>\n",
              "      <th></th>\n",
              "      <th></th>\n",
              "      <th></th>\n",
              "      <th></th>\n",
              "    </tr>\n",
              "  </thead>\n",
              "  <tbody>\n",
              "    <tr>\n",
              "      <th>0-query</th>\n",
              "      <td>-53.882748</td>\n",
              "      <td>17.971436</td>\n",
              "      <td>-42.117104</td>\n",
              "      <td>-183.936676</td>\n",
              "      <td>187.517487</td>\n",
              "      <td>-87.144928</td>\n",
              "      <td>-347.360596</td>\n",
              "      <td>38.307602</td>\n",
              "      <td>109.085564</td>\n",
              "      <td>30.413513</td>\n",
              "      <td>...</td>\n",
              "      <td>70.107361</td>\n",
              "      <td>-155.802567</td>\n",
              "      <td>-101.965942</td>\n",
              "      <td>65.903793</td>\n",
              "      <td>34.457500</td>\n",
              "      <td>62.642094</td>\n",
              "      <td>134.763596</td>\n",
              "      <td>-415.750244</td>\n",
              "      <td>-25.958572</td>\n",
              "      <td>675816-base</td>\n",
              "    </tr>\n",
              "    <tr>\n",
              "      <th>1-query</th>\n",
              "      <td>-87.776367</td>\n",
              "      <td>6.806268</td>\n",
              "      <td>-32.054546</td>\n",
              "      <td>-177.260391</td>\n",
              "      <td>120.803329</td>\n",
              "      <td>-83.810593</td>\n",
              "      <td>-94.572746</td>\n",
              "      <td>-78.433090</td>\n",
              "      <td>124.915901</td>\n",
              "      <td>140.331070</td>\n",
              "      <td>...</td>\n",
              "      <td>4.669178</td>\n",
              "      <td>-151.697708</td>\n",
              "      <td>-1.638704</td>\n",
              "      <td>68.170876</td>\n",
              "      <td>25.096191</td>\n",
              "      <td>89.974976</td>\n",
              "      <td>130.589630</td>\n",
              "      <td>-1035.092163</td>\n",
              "      <td>-51.276833</td>\n",
              "      <td>366656-base</td>\n",
              "    </tr>\n",
              "    <tr>\n",
              "      <th>2-query</th>\n",
              "      <td>-49.979565</td>\n",
              "      <td>3.841486</td>\n",
              "      <td>-116.118591</td>\n",
              "      <td>-180.401978</td>\n",
              "      <td>190.128433</td>\n",
              "      <td>-50.837620</td>\n",
              "      <td>26.943937</td>\n",
              "      <td>-30.447489</td>\n",
              "      <td>125.771164</td>\n",
              "      <td>211.607819</td>\n",
              "      <td>...</td>\n",
              "      <td>78.039764</td>\n",
              "      <td>-169.146194</td>\n",
              "      <td>82.144188</td>\n",
              "      <td>66.008217</td>\n",
              "      <td>18.400496</td>\n",
              "      <td>212.409729</td>\n",
              "      <td>121.931473</td>\n",
              "      <td>-1074.464844</td>\n",
              "      <td>-22.547178</td>\n",
              "      <td>1447819-base</td>\n",
              "    </tr>\n",
              "    <tr>\n",
              "      <th>3-query</th>\n",
              "      <td>-47.810562</td>\n",
              "      <td>9.086598</td>\n",
              "      <td>-115.401695</td>\n",
              "      <td>-121.011360</td>\n",
              "      <td>94.652840</td>\n",
              "      <td>-109.255409</td>\n",
              "      <td>-775.150146</td>\n",
              "      <td>79.186523</td>\n",
              "      <td>124.003098</td>\n",
              "      <td>242.650650</td>\n",
              "      <td>...</td>\n",
              "      <td>44.515266</td>\n",
              "      <td>-145.416748</td>\n",
              "      <td>93.990982</td>\n",
              "      <td>64.131348</td>\n",
              "      <td>106.061920</td>\n",
              "      <td>83.178757</td>\n",
              "      <td>118.277725</td>\n",
              "      <td>-1074.464844</td>\n",
              "      <td>-19.902788</td>\n",
              "      <td>1472602-base</td>\n",
              "    </tr>\n",
              "    <tr>\n",
              "      <th>4-query</th>\n",
              "      <td>-79.632126</td>\n",
              "      <td>14.442886</td>\n",
              "      <td>-58.903397</td>\n",
              "      <td>-147.052536</td>\n",
              "      <td>57.127068</td>\n",
              "      <td>-16.239529</td>\n",
              "      <td>-321.317963</td>\n",
              "      <td>45.984676</td>\n",
              "      <td>125.941284</td>\n",
              "      <td>103.392670</td>\n",
              "      <td>...</td>\n",
              "      <td>45.028912</td>\n",
              "      <td>-196.092072</td>\n",
              "      <td>-117.626335</td>\n",
              "      <td>66.926224</td>\n",
              "      <td>42.456169</td>\n",
              "      <td>77.621765</td>\n",
              "      <td>92.479927</td>\n",
              "      <td>-1074.464844</td>\n",
              "      <td>-21.149351</td>\n",
              "      <td>717819-base</td>\n",
              "    </tr>\n",
              "  </tbody>\n",
              "</table>\n",
              "<p>5 rows × 73 columns</p>\n",
              "</div>"
            ],
            "text/plain": [
              "                 0          1           2           3           4           5  \\\n",
              "Id                                                                              \n",
              "0-query -53.882748  17.971436  -42.117104 -183.936676  187.517487  -87.144928   \n",
              "1-query -87.776367   6.806268  -32.054546 -177.260391  120.803329  -83.810593   \n",
              "2-query -49.979565   3.841486 -116.118591 -180.401978  190.128433  -50.837620   \n",
              "3-query -47.810562   9.086598 -115.401695 -121.011360   94.652840 -109.255409   \n",
              "4-query -79.632126  14.442886  -58.903397 -147.052536   57.127068  -16.239529   \n",
              "\n",
              "                  6          7           8           9  ...         63  \\\n",
              "Id                                                      ...              \n",
              "0-query -347.360596  38.307602  109.085564   30.413513  ...  70.107361   \n",
              "1-query  -94.572746 -78.433090  124.915901  140.331070  ...   4.669178   \n",
              "2-query   26.943937 -30.447489  125.771164  211.607819  ...  78.039764   \n",
              "3-query -775.150146  79.186523  124.003098  242.650650  ...  44.515266   \n",
              "4-query -321.317963  45.984676  125.941284  103.392670  ...  45.028912   \n",
              "\n",
              "                 64          65         66          67          68  \\\n",
              "Id                                                                   \n",
              "0-query -155.802567 -101.965942  65.903793   34.457500   62.642094   \n",
              "1-query -151.697708   -1.638704  68.170876   25.096191   89.974976   \n",
              "2-query -169.146194   82.144188  66.008217   18.400496  212.409729   \n",
              "3-query -145.416748   93.990982  64.131348  106.061920   83.178757   \n",
              "4-query -196.092072 -117.626335  66.926224   42.456169   77.621765   \n",
              "\n",
              "                 69           70         71        Target  \n",
              "Id                                                         \n",
              "0-query  134.763596  -415.750244 -25.958572   675816-base  \n",
              "1-query  130.589630 -1035.092163 -51.276833   366656-base  \n",
              "2-query  121.931473 -1074.464844 -22.547178  1447819-base  \n",
              "3-query  118.277725 -1074.464844 -19.902788  1472602-base  \n",
              "4-query   92.479927 -1074.464844 -21.149351   717819-base  \n",
              "\n",
              "[5 rows x 73 columns]"
            ]
          },
          "execution_count": 11,
          "metadata": {},
          "output_type": "execute_result"
        }
      ],
      "source": [
        "df_train[['0', '1', '2', 'Target']].info()\n",
        "df_train.head()"
      ]
    },
    {
      "cell_type": "markdown",
      "metadata": {
        "id": "23qly_4Sr_aY"
      },
      "source": [
        "##valid dataset"
      ]
    },
    {
      "cell_type": "code",
      "execution_count": 12,
      "metadata": {
        "id": "NViSq2D7SkUK"
      },
      "outputs": [],
      "source": [
        "df_valid = pd.read_csv(f'{root_data}/validation.csv', index_col=0, dtype=dict_base)"
      ]
    },
    {
      "cell_type": "code",
      "execution_count": 13,
      "metadata": {
        "colab": {
          "base_uri": "https://localhost:8080/",
          "height": 547
        },
        "id": "iCVZalLw6iY7",
        "outputId": "b8d76f57-611e-4396-a3c8-cfcee026c7e8"
      },
      "outputs": [
        {
          "name": "stdout",
          "output_type": "stream",
          "text": [
            "<class 'pandas.core.frame.DataFrame'>\n",
            "Index: 100000 entries, 100000-query to 199999-query\n",
            "Data columns (total 3 columns):\n",
            " #   Column  Non-Null Count   Dtype  \n",
            "---  ------  --------------   -----  \n",
            " 0   0       100000 non-null  float32\n",
            " 1   1       100000 non-null  float32\n",
            " 2   2       100000 non-null  float32\n",
            "dtypes: float32(3)\n",
            "memory usage: 1.9+ MB\n"
          ]
        },
        {
          "data": {
            "text/html": [
              "<div>\n",
              "<style scoped>\n",
              "    .dataframe tbody tr th:only-of-type {\n",
              "        vertical-align: middle;\n",
              "    }\n",
              "\n",
              "    .dataframe tbody tr th {\n",
              "        vertical-align: top;\n",
              "    }\n",
              "\n",
              "    .dataframe thead th {\n",
              "        text-align: right;\n",
              "    }\n",
              "</style>\n",
              "<table border=\"1\" class=\"dataframe\">\n",
              "  <thead>\n",
              "    <tr style=\"text-align: right;\">\n",
              "      <th></th>\n",
              "      <th>0</th>\n",
              "      <th>1</th>\n",
              "      <th>2</th>\n",
              "      <th>3</th>\n",
              "      <th>4</th>\n",
              "      <th>5</th>\n",
              "      <th>6</th>\n",
              "      <th>7</th>\n",
              "      <th>8</th>\n",
              "      <th>9</th>\n",
              "      <th>...</th>\n",
              "      <th>62</th>\n",
              "      <th>63</th>\n",
              "      <th>64</th>\n",
              "      <th>65</th>\n",
              "      <th>66</th>\n",
              "      <th>67</th>\n",
              "      <th>68</th>\n",
              "      <th>69</th>\n",
              "      <th>70</th>\n",
              "      <th>71</th>\n",
              "    </tr>\n",
              "    <tr>\n",
              "      <th>Id</th>\n",
              "      <th></th>\n",
              "      <th></th>\n",
              "      <th></th>\n",
              "      <th></th>\n",
              "      <th></th>\n",
              "      <th></th>\n",
              "      <th></th>\n",
              "      <th></th>\n",
              "      <th></th>\n",
              "      <th></th>\n",
              "      <th></th>\n",
              "      <th></th>\n",
              "      <th></th>\n",
              "      <th></th>\n",
              "      <th></th>\n",
              "      <th></th>\n",
              "      <th></th>\n",
              "      <th></th>\n",
              "      <th></th>\n",
              "      <th></th>\n",
              "      <th></th>\n",
              "    </tr>\n",
              "  </thead>\n",
              "  <tbody>\n",
              "    <tr>\n",
              "      <th>100000-query</th>\n",
              "      <td>-57.372734</td>\n",
              "      <td>3.597752</td>\n",
              "      <td>-13.213642</td>\n",
              "      <td>-125.926788</td>\n",
              "      <td>110.745941</td>\n",
              "      <td>-81.279594</td>\n",
              "      <td>-461.003174</td>\n",
              "      <td>139.815720</td>\n",
              "      <td>112.880981</td>\n",
              "      <td>75.215752</td>\n",
              "      <td>...</td>\n",
              "      <td>-75.513023</td>\n",
              "      <td>52.830902</td>\n",
              "      <td>-143.439453</td>\n",
              "      <td>59.051933</td>\n",
              "      <td>69.282242</td>\n",
              "      <td>61.927513</td>\n",
              "      <td>111.592529</td>\n",
              "      <td>115.140656</td>\n",
              "      <td>-1099.130493</td>\n",
              "      <td>-117.079361</td>\n",
              "    </tr>\n",
              "    <tr>\n",
              "      <th>100001-query</th>\n",
              "      <td>-53.758705</td>\n",
              "      <td>12.790300</td>\n",
              "      <td>-43.268543</td>\n",
              "      <td>-134.417618</td>\n",
              "      <td>114.449913</td>\n",
              "      <td>-90.520126</td>\n",
              "      <td>-759.626038</td>\n",
              "      <td>63.995087</td>\n",
              "      <td>127.117905</td>\n",
              "      <td>53.128998</td>\n",
              "      <td>...</td>\n",
              "      <td>-79.441833</td>\n",
              "      <td>29.185436</td>\n",
              "      <td>-168.605896</td>\n",
              "      <td>-82.872444</td>\n",
              "      <td>70.765602</td>\n",
              "      <td>-65.975952</td>\n",
              "      <td>97.077164</td>\n",
              "      <td>123.391640</td>\n",
              "      <td>-744.442322</td>\n",
              "      <td>-25.009319</td>\n",
              "    </tr>\n",
              "    <tr>\n",
              "      <th>100002-query</th>\n",
              "      <td>-64.175095</td>\n",
              "      <td>-3.980927</td>\n",
              "      <td>-7.679249</td>\n",
              "      <td>-170.160934</td>\n",
              "      <td>96.446159</td>\n",
              "      <td>-62.377739</td>\n",
              "      <td>-759.626038</td>\n",
              "      <td>87.477554</td>\n",
              "      <td>131.270111</td>\n",
              "      <td>168.920319</td>\n",
              "      <td>...</td>\n",
              "      <td>-134.795410</td>\n",
              "      <td>37.368729</td>\n",
              "      <td>-159.662308</td>\n",
              "      <td>-119.232727</td>\n",
              "      <td>67.710442</td>\n",
              "      <td>86.002060</td>\n",
              "      <td>137.636414</td>\n",
              "      <td>141.081635</td>\n",
              "      <td>-294.052277</td>\n",
              "      <td>-70.969604</td>\n",
              "    </tr>\n",
              "    <tr>\n",
              "      <th>100003-query</th>\n",
              "      <td>-99.286858</td>\n",
              "      <td>16.123936</td>\n",
              "      <td>9.837166</td>\n",
              "      <td>-148.060440</td>\n",
              "      <td>83.697083</td>\n",
              "      <td>-133.729721</td>\n",
              "      <td>58.576405</td>\n",
              "      <td>-19.046659</td>\n",
              "      <td>115.042404</td>\n",
              "      <td>75.206734</td>\n",
              "      <td>...</td>\n",
              "      <td>-77.236107</td>\n",
              "      <td>44.100494</td>\n",
              "      <td>-132.530121</td>\n",
              "      <td>-106.318985</td>\n",
              "      <td>70.883957</td>\n",
              "      <td>23.577892</td>\n",
              "      <td>133.183960</td>\n",
              "      <td>143.252945</td>\n",
              "      <td>-799.363647</td>\n",
              "      <td>-89.392670</td>\n",
              "    </tr>\n",
              "    <tr>\n",
              "      <th>100004-query</th>\n",
              "      <td>-79.532921</td>\n",
              "      <td>-0.364173</td>\n",
              "      <td>-16.027431</td>\n",
              "      <td>-170.884949</td>\n",
              "      <td>165.453918</td>\n",
              "      <td>-28.291668</td>\n",
              "      <td>33.931934</td>\n",
              "      <td>34.411217</td>\n",
              "      <td>128.903976</td>\n",
              "      <td>102.086914</td>\n",
              "      <td>...</td>\n",
              "      <td>-123.770248</td>\n",
              "      <td>45.635944</td>\n",
              "      <td>-134.258926</td>\n",
              "      <td>13.735359</td>\n",
              "      <td>70.617630</td>\n",
              "      <td>15.332115</td>\n",
              "      <td>154.568115</td>\n",
              "      <td>101.700638</td>\n",
              "      <td>-1171.892334</td>\n",
              "      <td>-125.307892</td>\n",
              "    </tr>\n",
              "  </tbody>\n",
              "</table>\n",
              "<p>5 rows × 72 columns</p>\n",
              "</div>"
            ],
            "text/plain": [
              "                      0          1          2           3           4  \\\n",
              "Id                                                                      \n",
              "100000-query -57.372734   3.597752 -13.213642 -125.926788  110.745941   \n",
              "100001-query -53.758705  12.790300 -43.268543 -134.417618  114.449913   \n",
              "100002-query -64.175095  -3.980927  -7.679249 -170.160934   96.446159   \n",
              "100003-query -99.286858  16.123936   9.837166 -148.060440   83.697083   \n",
              "100004-query -79.532921  -0.364173 -16.027431 -170.884949  165.453918   \n",
              "\n",
              "                       5           6           7           8           9  ...  \\\n",
              "Id                                                                        ...   \n",
              "100000-query  -81.279594 -461.003174  139.815720  112.880981   75.215752  ...   \n",
              "100001-query  -90.520126 -759.626038   63.995087  127.117905   53.128998  ...   \n",
              "100002-query  -62.377739 -759.626038   87.477554  131.270111  168.920319  ...   \n",
              "100003-query -133.729721   58.576405  -19.046659  115.042404   75.206734  ...   \n",
              "100004-query  -28.291668   33.931934   34.411217  128.903976  102.086914  ...   \n",
              "\n",
              "                      62         63          64          65         66  \\\n",
              "Id                                                                       \n",
              "100000-query  -75.513023  52.830902 -143.439453   59.051933  69.282242   \n",
              "100001-query  -79.441833  29.185436 -168.605896  -82.872444  70.765602   \n",
              "100002-query -134.795410  37.368729 -159.662308 -119.232727  67.710442   \n",
              "100003-query  -77.236107  44.100494 -132.530121 -106.318985  70.883957   \n",
              "100004-query -123.770248  45.635944 -134.258926   13.735359  70.617630   \n",
              "\n",
              "                     67          68          69           70          71  \n",
              "Id                                                                        \n",
              "100000-query  61.927513  111.592529  115.140656 -1099.130493 -117.079361  \n",
              "100001-query -65.975952   97.077164  123.391640  -744.442322  -25.009319  \n",
              "100002-query  86.002060  137.636414  141.081635  -294.052277  -70.969604  \n",
              "100003-query  23.577892  133.183960  143.252945  -799.363647  -89.392670  \n",
              "100004-query  15.332115  154.568115  101.700638 -1171.892334 -125.307892  \n",
              "\n",
              "[5 rows x 72 columns]"
            ]
          },
          "execution_count": 13,
          "metadata": {},
          "output_type": "execute_result"
        }
      ],
      "source": [
        "df_valid[['0', '1', '2']].info()\n",
        "df_valid.head()"
      ]
    },
    {
      "cell_type": "code",
      "execution_count": 14,
      "metadata": {
        "id": "1nlX6bMjS7xI"
      },
      "outputs": [],
      "source": [
        "df_valid_ans = pd.read_csv(f'{root_data}/validation_answer.csv', index_col=0)"
      ]
    },
    {
      "cell_type": "code",
      "execution_count": 15,
      "metadata": {
        "colab": {
          "base_uri": "https://localhost:8080/",
          "height": 376
        },
        "id": "BUU5f0Ew6mlD",
        "outputId": "d9ebb6a6-ac40-42c5-cc25-87f9fa378dd4"
      },
      "outputs": [
        {
          "name": "stdout",
          "output_type": "stream",
          "text": [
            "<class 'pandas.core.frame.DataFrame'>\n",
            "Index: 100000 entries, 100000-query to 199999-query\n",
            "Data columns (total 1 columns):\n",
            " #   Column    Non-Null Count   Dtype \n",
            "---  ------    --------------   ----- \n",
            " 0   Expected  100000 non-null  object\n",
            "dtypes: object(1)\n",
            "memory usage: 1.5+ MB\n"
          ]
        },
        {
          "data": {
            "text/html": [
              "<div>\n",
              "<style scoped>\n",
              "    .dataframe tbody tr th:only-of-type {\n",
              "        vertical-align: middle;\n",
              "    }\n",
              "\n",
              "    .dataframe tbody tr th {\n",
              "        vertical-align: top;\n",
              "    }\n",
              "\n",
              "    .dataframe thead th {\n",
              "        text-align: right;\n",
              "    }\n",
              "</style>\n",
              "<table border=\"1\" class=\"dataframe\">\n",
              "  <thead>\n",
              "    <tr style=\"text-align: right;\">\n",
              "      <th></th>\n",
              "      <th>Expected</th>\n",
              "    </tr>\n",
              "    <tr>\n",
              "      <th>Id</th>\n",
              "      <th></th>\n",
              "    </tr>\n",
              "  </thead>\n",
              "  <tbody>\n",
              "    <tr>\n",
              "      <th>100000-query</th>\n",
              "      <td>2676668-base</td>\n",
              "    </tr>\n",
              "    <tr>\n",
              "      <th>100001-query</th>\n",
              "      <td>91606-base</td>\n",
              "    </tr>\n",
              "    <tr>\n",
              "      <th>100002-query</th>\n",
              "      <td>472256-base</td>\n",
              "    </tr>\n",
              "    <tr>\n",
              "      <th>100003-query</th>\n",
              "      <td>3168654-base</td>\n",
              "    </tr>\n",
              "    <tr>\n",
              "      <th>100004-query</th>\n",
              "      <td>75484-base</td>\n",
              "    </tr>\n",
              "  </tbody>\n",
              "</table>\n",
              "</div>"
            ],
            "text/plain": [
              "                  Expected\n",
              "Id                        \n",
              "100000-query  2676668-base\n",
              "100001-query    91606-base\n",
              "100002-query   472256-base\n",
              "100003-query  3168654-base\n",
              "100004-query    75484-base"
            ]
          },
          "execution_count": 15,
          "metadata": {},
          "output_type": "execute_result"
        }
      ],
      "source": [
        "df_valid_ans.info()\n",
        "df_valid_ans.head()"
      ]
    },
    {
      "cell_type": "markdown",
      "metadata": {
        "id": "fWVDa_MmdA8f"
      },
      "source": [
        "# EDA"
      ]
    },
    {
      "cell_type": "markdown",
      "metadata": {
        "id": "EBKXqmx3yjwP"
      },
      "source": [
        "В файлах `train_eda.html` и `base_eda.html` представлен EDA датасета train и base. Из данного отчета можно сделать вывод, что в датасетах нет пропусков и дубликатов. Датасет train содержит 100000 строк. Датасет base содержит 2918139 строк. Также видно, что оба датасета имеют одинаковую структуру и распределение признаков. В датасетах все признаки, кроме '6', '21', '25', '33', '44', '59','63', '65', '70' распределены нормально"
      ]
    },
    {
      "cell_type": "markdown",
      "metadata": {
        "id": "qeiJVXFuz2a4"
      },
      "source": [
        "Дополнительно выведем описательную статистику датасетя train"
      ]
    },
    {
      "cell_type": "code",
      "execution_count": 16,
      "metadata": {
        "colab": {
          "base_uri": "https://localhost:8080/",
          "height": 1000
        },
        "id": "rPuNlT5uyi94",
        "outputId": "af263b32-0df0-44be-f14c-a6ff63ffcb18"
      },
      "outputs": [
        {
          "data": {
            "text/html": [
              "<style type=\"text/css\">\n",
              "#T_d7187_row0_col2, #T_d7187_row36_col2, #T_d7187_row63_col2 {\n",
              "  background-color: #ebf3fb;\n",
              "  color: #000000;\n",
              "}\n",
              "#T_d7187_row1_col2, #T_d7187_row27_col2, #T_d7187_row54_col2 {\n",
              "  background-color: #f5fafe;\n",
              "  color: #000000;\n",
              "}\n",
              "#T_d7187_row2_col2, #T_d7187_row34_col2 {\n",
              "  background-color: #e4eff9;\n",
              "  color: #000000;\n",
              "}\n",
              "#T_d7187_row3_col2, #T_d7187_row16_col2, #T_d7187_row35_col2, #T_d7187_row39_col2 {\n",
              "  background-color: #eef5fc;\n",
              "  color: #000000;\n",
              "}\n",
              "#T_d7187_row4_col2, #T_d7187_row43_col2 {\n",
              "  background-color: #e0ecf8;\n",
              "  color: #000000;\n",
              "}\n",
              "#T_d7187_row5_col2, #T_d7187_row20_col2, #T_d7187_row30_col2, #T_d7187_row32_col2 {\n",
              "  background-color: #eaf2fb;\n",
              "  color: #000000;\n",
              "}\n",
              "#T_d7187_row6_col2 {\n",
              "  background-color: #3282be;\n",
              "  color: #f1f1f1;\n",
              "}\n",
              "#T_d7187_row7_col2, #T_d7187_row46_col2 {\n",
              "  background-color: #d7e6f5;\n",
              "  color: #000000;\n",
              "}\n",
              "#T_d7187_row8_col2, #T_d7187_row41_col2 {\n",
              "  background-color: #f5f9fe;\n",
              "  color: #000000;\n",
              "}\n",
              "#T_d7187_row9_col2, #T_d7187_row60_col2 {\n",
              "  background-color: #d8e7f5;\n",
              "  color: #000000;\n",
              "}\n",
              "#T_d7187_row10_col2, #T_d7187_row12_col2, #T_d7187_row24_col2, #T_d7187_row64_col2, #T_d7187_row71_col2 {\n",
              "  background-color: #e3eef9;\n",
              "  color: #000000;\n",
              "}\n",
              "#T_d7187_row11_col2, #T_d7187_row22_col2 {\n",
              "  background-color: #dfebf7;\n",
              "  color: #000000;\n",
              "}\n",
              "#T_d7187_row13_col2 {\n",
              "  background-color: #e5eff9;\n",
              "  color: #000000;\n",
              "}\n",
              "#T_d7187_row14_col2 {\n",
              "  background-color: #e7f0fa;\n",
              "  color: #000000;\n",
              "}\n",
              "#T_d7187_row15_col2, #T_d7187_row52_col2, #T_d7187_row55_col2 {\n",
              "  background-color: #f2f7fd;\n",
              "  color: #000000;\n",
              "}\n",
              "#T_d7187_row17_col2, #T_d7187_row51_col2, #T_d7187_row53_col2, #T_d7187_row58_col2, #T_d7187_row67_col2 {\n",
              "  background-color: #dceaf6;\n",
              "  color: #000000;\n",
              "}\n",
              "#T_d7187_row18_col2, #T_d7187_row28_col2, #T_d7187_row57_col2 {\n",
              "  background-color: #dfecf7;\n",
              "  color: #000000;\n",
              "}\n",
              "#T_d7187_row19_col2, #T_d7187_row66_col2 {\n",
              "  background-color: #f7fbff;\n",
              "  color: #000000;\n",
              "}\n",
              "#T_d7187_row21_col2 {\n",
              "  background-color: #084488;\n",
              "  color: #f1f1f1;\n",
              "}\n",
              "#T_d7187_row23_col2, #T_d7187_row31_col2 {\n",
              "  background-color: #e6f0f9;\n",
              "  color: #000000;\n",
              "}\n",
              "#T_d7187_row25_col2 {\n",
              "  background-color: #77b5d9;\n",
              "  color: #000000;\n",
              "}\n",
              "#T_d7187_row26_col2 {\n",
              "  background-color: #d9e7f5;\n",
              "  color: #000000;\n",
              "}\n",
              "#T_d7187_row29_col2, #T_d7187_row37_col2 {\n",
              "  background-color: #f2f8fd;\n",
              "  color: #000000;\n",
              "}\n",
              "#T_d7187_row33_col2 {\n",
              "  background-color: #3585bf;\n",
              "  color: #f1f1f1;\n",
              "}\n",
              "#T_d7187_row38_col2, #T_d7187_row44_col2 {\n",
              "  background-color: #f1f7fd;\n",
              "  color: #000000;\n",
              "}\n",
              "#T_d7187_row40_col2, #T_d7187_row56_col2 {\n",
              "  background-color: #f4f9fe;\n",
              "  color: #000000;\n",
              "}\n",
              "#T_d7187_row42_col2 {\n",
              "  background-color: #dce9f6;\n",
              "  color: #000000;\n",
              "}\n",
              "#T_d7187_row45_col2 {\n",
              "  background-color: #e8f1fa;\n",
              "  color: #000000;\n",
              "}\n",
              "#T_d7187_row47_col2 {\n",
              "  background-color: #dae8f6;\n",
              "  color: #000000;\n",
              "}\n",
              "#T_d7187_row48_col2 {\n",
              "  background-color: #e1edf8;\n",
              "  color: #000000;\n",
              "}\n",
              "#T_d7187_row49_col2 {\n",
              "  background-color: #dbe9f6;\n",
              "  color: #000000;\n",
              "}\n",
              "#T_d7187_row50_col2, #T_d7187_row68_col2 {\n",
              "  background-color: #d9e8f5;\n",
              "  color: #000000;\n",
              "}\n",
              "#T_d7187_row59_col2 {\n",
              "  background-color: #65aad4;\n",
              "  color: #f1f1f1;\n",
              "}\n",
              "#T_d7187_row61_col2 {\n",
              "  background-color: #f3f8fe;\n",
              "  color: #000000;\n",
              "}\n",
              "#T_d7187_row62_col2 {\n",
              "  background-color: #e9f2fa;\n",
              "  color: #000000;\n",
              "}\n",
              "#T_d7187_row65_col2 {\n",
              "  background-color: #c7dcef;\n",
              "  color: #000000;\n",
              "}\n",
              "#T_d7187_row69_col2 {\n",
              "  background-color: #edf4fc;\n",
              "  color: #000000;\n",
              "}\n",
              "#T_d7187_row70_col2 {\n",
              "  background-color: #08306b;\n",
              "  color: #f1f1f1;\n",
              "}\n",
              "</style>\n",
              "<table id=\"T_d7187\">\n",
              "  <thead>\n",
              "    <tr>\n",
              "      <th class=\"blank level0\" >&nbsp;</th>\n",
              "      <th id=\"T_d7187_level0_col0\" class=\"col_heading level0 col0\" >count</th>\n",
              "      <th id=\"T_d7187_level0_col1\" class=\"col_heading level0 col1\" >mean</th>\n",
              "      <th id=\"T_d7187_level0_col2\" class=\"col_heading level0 col2\" >std</th>\n",
              "      <th id=\"T_d7187_level0_col3\" class=\"col_heading level0 col3\" >min</th>\n",
              "      <th id=\"T_d7187_level0_col4\" class=\"col_heading level0 col4\" >25%</th>\n",
              "      <th id=\"T_d7187_level0_col5\" class=\"col_heading level0 col5\" >50%</th>\n",
              "      <th id=\"T_d7187_level0_col6\" class=\"col_heading level0 col6\" >75%</th>\n",
              "      <th id=\"T_d7187_level0_col7\" class=\"col_heading level0 col7\" >max</th>\n",
              "    </tr>\n",
              "  </thead>\n",
              "  <tbody>\n",
              "    <tr>\n",
              "      <th id=\"T_d7187_level0_row0\" class=\"row_heading level0 row0\" >0</th>\n",
              "      <td id=\"T_d7187_row0_col0\" class=\"data row0 col0\" >100000.000000</td>\n",
              "      <td id=\"T_d7187_row0_col1\" class=\"data row0 col1\" >-85.328667</td>\n",
              "      <td id=\"T_d7187_row0_col2\" class=\"data row0 col2\" >25.803650</td>\n",
              "      <td id=\"T_d7187_row0_col3\" class=\"data row0 col3\" >-186.280273</td>\n",
              "      <td id=\"T_d7187_row0_col4\" class=\"data row0 col4\" >-103.309149</td>\n",
              "      <td id=\"T_d7187_row0_col5\" class=\"data row0 col5\" >-85.273697</td>\n",
              "      <td id=\"T_d7187_row0_col6\" class=\"data row0 col6\" >-67.330811</td>\n",
              "      <td id=\"T_d7187_row0_col7\" class=\"data row0 col7\" >14.585236</td>\n",
              "    </tr>\n",
              "    <tr>\n",
              "      <th id=\"T_d7187_level0_row1\" class=\"row_heading level0 row1\" >1</th>\n",
              "      <td id=\"T_d7187_row1_col0\" class=\"data row1 col0\" >100000.000000</td>\n",
              "      <td id=\"T_d7187_row1_col1\" class=\"data row1 col1\" >7.664345</td>\n",
              "      <td id=\"T_d7187_row1_col2\" class=\"data row1 col2\" >4.955601</td>\n",
              "      <td id=\"T_d7187_row1_col3\" class=\"data row1 col3\" >-11.560507</td>\n",
              "      <td id=\"T_d7187_row1_col4\" class=\"data row1 col4\" >4.313784</td>\n",
              "      <td id=\"T_d7187_row1_col5\" class=\"data row1 col5\" >7.652854</td>\n",
              "      <td id=\"T_d7187_row1_col6\" class=\"data row1 col6\" >10.981191</td>\n",
              "      <td id=\"T_d7187_row1_col7\" class=\"data row1 col7\" >28.917845</td>\n",
              "    </tr>\n",
              "    <tr>\n",
              "      <th id=\"T_d7187_level0_row2\" class=\"row_heading level0 row2\" >2</th>\n",
              "      <td id=\"T_d7187_row2_col0\" class=\"data row2 col0\" >100000.000000</td>\n",
              "      <td id=\"T_d7187_row2_col1\" class=\"data row2 col1\" >-43.667046</td>\n",
              "      <td id=\"T_d7187_row2_col2\" class=\"data row2 col2\" >39.110588</td>\n",
              "      <td id=\"T_d7187_row2_col3\" class=\"data row2 col3\" >-224.896057</td>\n",
              "      <td id=\"T_d7187_row2_col4\" class=\"data row2 col4\" >-69.494486</td>\n",
              "      <td id=\"T_d7187_row2_col5\" class=\"data row2 col5\" >-42.830246</td>\n",
              "      <td id=\"T_d7187_row2_col6\" class=\"data row2 col6\" >-17.713690</td>\n",
              "      <td id=\"T_d7187_row2_col7\" class=\"data row2 col7\" >128.108459</td>\n",
              "    </tr>\n",
              "    <tr>\n",
              "      <th id=\"T_d7187_level0_row3\" class=\"row_heading level0 row3\" >3</th>\n",
              "      <td id=\"T_d7187_row3_col0\" class=\"data row3 col0\" >100000.000000</td>\n",
              "      <td id=\"T_d7187_row3_col1\" class=\"data row3 col1\" >-146.118637</td>\n",
              "      <td id=\"T_d7187_row3_col2\" class=\"data row3 col2\" >20.434750</td>\n",
              "      <td id=\"T_d7187_row3_col3\" class=\"data row3 col3\" >-223.307220</td>\n",
              "      <td id=\"T_d7187_row3_col4\" class=\"data row3 col4\" >-160.028522</td>\n",
              "      <td id=\"T_d7187_row3_col5\" class=\"data row3 col5\" >-146.067444</td>\n",
              "      <td id=\"T_d7187_row3_col6\" class=\"data row3 col6\" >-132.277744</td>\n",
              "      <td id=\"T_d7187_row3_col7\" class=\"data row3 col7\" >-60.751625</td>\n",
              "    </tr>\n",
              "    <tr>\n",
              "      <th id=\"T_d7187_level0_row4\" class=\"row_heading level0 row4\" >4</th>\n",
              "      <td id=\"T_d7187_row4_col0\" class=\"data row4 col0\" >100000.000000</td>\n",
              "      <td id=\"T_d7187_row4_col1\" class=\"data row4 col1\" >111.770592</td>\n",
              "      <td id=\"T_d7187_row4_col2\" class=\"data row4 col2\" >47.700665</td>\n",
              "      <td id=\"T_d7187_row4_col3\" class=\"data row4 col3\" >-93.272018</td>\n",
              "      <td id=\"T_d7187_row4_col4\" class=\"data row4 col4\" >79.474319</td>\n",
              "      <td id=\"T_d7187_row4_col5\" class=\"data row4 col5\" >112.260101</td>\n",
              "      <td id=\"T_d7187_row4_col6\" class=\"data row4 col6\" >143.760826</td>\n",
              "      <td id=\"T_d7187_row4_col7\" class=\"data row4 col7\" >301.363586</td>\n",
              "    </tr>\n",
              "    <tr>\n",
              "      <th id=\"T_d7187_level0_row5\" class=\"row_heading level0 row5\" >5</th>\n",
              "      <td id=\"T_d7187_row5_col0\" class=\"data row5 col0\" >100000.000000</td>\n",
              "      <td id=\"T_d7187_row5_col1\" class=\"data row5 col1\" >-73.178787</td>\n",
              "      <td id=\"T_d7187_row5_col2\" class=\"data row5 col2\" >28.718643</td>\n",
              "      <td id=\"T_d7187_row5_col3\" class=\"data row5 col3\" >-184.962448</td>\n",
              "      <td id=\"T_d7187_row5_col4\" class=\"data row5 col4\" >-92.834080</td>\n",
              "      <td id=\"T_d7187_row5_col5\" class=\"data row5 col5\" >-73.364422</td>\n",
              "      <td id=\"T_d7187_row5_col6\" class=\"data row5 col6\" >-53.699613</td>\n",
              "      <td id=\"T_d7187_row5_col7\" class=\"data row5 col7\" >51.849709</td>\n",
              "    </tr>\n",
              "    <tr>\n",
              "      <th id=\"T_d7187_level0_row6\" class=\"row_heading level0 row6\" >6</th>\n",
              "      <td id=\"T_d7187_row6_col0\" class=\"data row6 col0\" >100000.000000</td>\n",
              "      <td id=\"T_d7187_row6_col1\" class=\"data row6 col1\" >-440.615112</td>\n",
              "      <td id=\"T_d7187_row6_col2\" class=\"data row6 col2\" >279.047058</td>\n",
              "      <td id=\"T_d7187_row6_col3\" class=\"data row6 col3\" >-791.469482</td>\n",
              "      <td id=\"T_d7187_row6_col4\" class=\"data row6 col4\" >-738.536865</td>\n",
              "      <td id=\"T_d7187_row6_col5\" class=\"data row6 col5\" >-511.837753</td>\n",
              "      <td id=\"T_d7187_row6_col6\" class=\"data row6 col6\" >-201.116577</td>\n",
              "      <td id=\"T_d7187_row6_col7\" class=\"data row6 col7\" >109.625191</td>\n",
              "    </tr>\n",
              "    <tr>\n",
              "      <th id=\"T_d7187_level0_row7\" class=\"row_heading level0 row7\" >7</th>\n",
              "      <td id=\"T_d7187_row7_col0\" class=\"data row7 col0\" >100000.000000</td>\n",
              "      <td id=\"T_d7187_row7_col1\" class=\"data row7 col1\" >21.231590</td>\n",
              "      <td id=\"T_d7187_row7_col2\" class=\"data row7 col2\" >65.984711</td>\n",
              "      <td id=\"T_d7187_row7_col3\" class=\"data row7 col3\" >-278.582825</td>\n",
              "      <td id=\"T_d7187_row7_col4\" class=\"data row7 col4\" >-22.131763</td>\n",
              "      <td id=\"T_d7187_row7_col5\" class=\"data row7 col5\" >22.278989</td>\n",
              "      <td id=\"T_d7187_row7_col6\" class=\"data row7 col6\" >65.899597</td>\n",
              "      <td id=\"T_d7187_row7_col7\" class=\"data row7 col7\" >288.171844</td>\n",
              "    </tr>\n",
              "    <tr>\n",
              "      <th id=\"T_d7187_level0_row8\" class=\"row_heading level0 row8\" >8</th>\n",
              "      <td id=\"T_d7187_row8_col0\" class=\"data row8 col0\" >100000.000000</td>\n",
              "      <td id=\"T_d7187_row8_col1\" class=\"data row8 col1\" >123.067879</td>\n",
              "      <td id=\"T_d7187_row8_col2\" class=\"data row8 col2\" >6.492044</td>\n",
              "      <td id=\"T_d7187_row8_col3\" class=\"data row8 col3\" >94.831146</td>\n",
              "      <td id=\"T_d7187_row8_col4\" class=\"data row8 col4\" >118.674643</td>\n",
              "      <td id=\"T_d7187_row8_col5\" class=\"data row8 col5\" >123.087540</td>\n",
              "      <td id=\"T_d7187_row8_col6\" class=\"data row8 col6\" >127.541805</td>\n",
              "      <td id=\"T_d7187_row8_col7\" class=\"data row8 col7\" >149.356201</td>\n",
              "    </tr>\n",
              "    <tr>\n",
              "      <th id=\"T_d7187_level0_row9\" class=\"row_heading level0 row9\" >9</th>\n",
              "      <td id=\"T_d7187_row9_col0\" class=\"data row9 col0\" >100000.000000</td>\n",
              "      <td id=\"T_d7187_row9_col1\" class=\"data row9 col1\" >126.120201</td>\n",
              "      <td id=\"T_d7187_row9_col2\" class=\"data row9 col2\" >64.912010</td>\n",
              "      <td id=\"T_d7187_row9_col3\" class=\"data row9 col3\" >-142.156952</td>\n",
              "      <td id=\"T_d7187_row9_col4\" class=\"data row9 col4\" >82.545027</td>\n",
              "      <td id=\"T_d7187_row9_col5\" class=\"data row9 col5\" >125.963341</td>\n",
              "      <td id=\"T_d7187_row9_col6\" class=\"data row9 col6\" >169.701004</td>\n",
              "      <td id=\"T_d7187_row9_col7\" class=\"data row9 col7\" >392.827148</td>\n",
              "    </tr>\n",
              "    <tr>\n",
              "      <th id=\"T_d7187_level0_row10\" class=\"row_heading level0 row10\" >10</th>\n",
              "      <td id=\"T_d7187_row10_col0\" class=\"data row10 col0\" >100000.000000</td>\n",
              "      <td id=\"T_d7187_row10_col1\" class=\"data row10 col1\" >-141.168579</td>\n",
              "      <td id=\"T_d7187_row10_col2\" class=\"data row10 col2\" >41.607365</td>\n",
              "      <td id=\"T_d7187_row10_col3\" class=\"data row10 col3\" >-330.570587</td>\n",
              "      <td id=\"T_d7187_row10_col4\" class=\"data row10 col4\" >-168.599022</td>\n",
              "      <td id=\"T_d7187_row10_col5\" class=\"data row10 col5\" >-140.461441</td>\n",
              "      <td id=\"T_d7187_row10_col6\" class=\"data row10 col6\" >-113.136534</td>\n",
              "      <td id=\"T_d7187_row10_col7\" class=\"data row10 col7\" >37.017212</td>\n",
              "    </tr>\n",
              "    <tr>\n",
              "      <th id=\"T_d7187_level0_row11\" class=\"row_heading level0 row11\" >11</th>\n",
              "      <td id=\"T_d7187_row11_col0\" class=\"data row11 col0\" >100000.000000</td>\n",
              "      <td id=\"T_d7187_row11_col1\" class=\"data row11 col1\" >-69.228447</td>\n",
              "      <td id=\"T_d7187_row11_col2\" class=\"data row11 col2\" >51.258312</td>\n",
              "      <td id=\"T_d7187_row11_col3\" class=\"data row11 col3\" >-352.405212</td>\n",
              "      <td id=\"T_d7187_row11_col4\" class=\"data row11 col4\" >-103.048817</td>\n",
              "      <td id=\"T_d7187_row11_col5\" class=\"data row11 col5\" >-68.753326</td>\n",
              "      <td id=\"T_d7187_row11_col6\" class=\"data row11 col6\" >-34.668559</td>\n",
              "      <td id=\"T_d7187_row11_col7\" class=\"data row11 col7\" >152.500000</td>\n",
              "    </tr>\n",
              "    <tr>\n",
              "      <th id=\"T_d7187_level0_row12\" class=\"row_heading level0 row12\" >12</th>\n",
              "      <td id=\"T_d7187_row12_col0\" class=\"data row12 col0\" >100000.000000</td>\n",
              "      <td id=\"T_d7187_row12_col1\" class=\"data row12 col1\" >-42.559540</td>\n",
              "      <td id=\"T_d7187_row12_col2\" class=\"data row12 col2\" >40.819302</td>\n",
              "      <td id=\"T_d7187_row12_col3\" class=\"data row12 col3\" >-214.742462</td>\n",
              "      <td id=\"T_d7187_row12_col4\" class=\"data row12 col4\" >-69.801708</td>\n",
              "      <td id=\"T_d7187_row12_col5\" class=\"data row12 col5\" >-41.919796</td>\n",
              "      <td id=\"T_d7187_row12_col6\" class=\"data row12 col6\" >-14.631057</td>\n",
              "      <td id=\"T_d7187_row12_col7\" class=\"data row12 col7\" >116.210098</td>\n",
              "    </tr>\n",
              "    <tr>\n",
              "      <th id=\"T_d7187_level0_row13\" class=\"row_heading level0 row13\" >13</th>\n",
              "      <td id=\"T_d7187_row13_col0\" class=\"data row13 col0\" >100000.000000</td>\n",
              "      <td id=\"T_d7187_row13_col1\" class=\"data row13 col1\" >6.506720</td>\n",
              "      <td id=\"T_d7187_row13_col2\" class=\"data row13 col2\" >37.593464</td>\n",
              "      <td id=\"T_d7187_row13_col3\" class=\"data row13 col3\" >-145.860275</td>\n",
              "      <td id=\"T_d7187_row13_col4\" class=\"data row13 col4\" >-18.815189</td>\n",
              "      <td id=\"T_d7187_row13_col5\" class=\"data row13 col5\" >6.739488</td>\n",
              "      <td id=\"T_d7187_row13_col6\" class=\"data row13 col6\" >32.074533</td>\n",
              "      <td id=\"T_d7187_row13_col7\" class=\"data row13 col7\" >171.126968</td>\n",
              "    </tr>\n",
              "    <tr>\n",
              "      <th id=\"T_d7187_level0_row14\" class=\"row_heading level0 row14\" >14</th>\n",
              "      <td id=\"T_d7187_row14_col0\" class=\"data row14 col0\" >100000.000000</td>\n",
              "      <td id=\"T_d7187_row14_col1\" class=\"data row14 col1\" >149.077576</td>\n",
              "      <td id=\"T_d7187_row14_col2\" class=\"data row14 col2\" >34.167629</td>\n",
              "      <td id=\"T_d7187_row14_col3\" class=\"data row14 col3\" >8.818390</td>\n",
              "      <td id=\"T_d7187_row14_col4\" class=\"data row14 col4\" >126.369123</td>\n",
              "      <td id=\"T_d7187_row14_col5\" class=\"data row14 col5\" >149.705673</td>\n",
              "      <td id=\"T_d7187_row14_col6\" class=\"data row14 col6\" >172.627323</td>\n",
              "      <td id=\"T_d7187_row14_col7\" class=\"data row14 col7\" >279.152557</td>\n",
              "    </tr>\n",
              "    <tr>\n",
              "      <th id=\"T_d7187_level0_row15\" class=\"row_heading level0 row15\" >15</th>\n",
              "      <td id=\"T_d7187_row15_col0\" class=\"data row15 col0\" >100000.000000</td>\n",
              "      <td id=\"T_d7187_row15_col1\" class=\"data row15 col1\" >-23.942253</td>\n",
              "      <td id=\"T_d7187_row15_col2\" class=\"data row15 col2\" >13.024084</td>\n",
              "      <td id=\"T_d7187_row15_col3\" class=\"data row15 col3\" >-82.645004</td>\n",
              "      <td id=\"T_d7187_row15_col4\" class=\"data row15 col4\" >-32.379751</td>\n",
              "      <td id=\"T_d7187_row15_col5\" class=\"data row15 col5\" >-23.707227</td>\n",
              "      <td id=\"T_d7187_row15_col6\" class=\"data row15 col6\" >-15.438074</td>\n",
              "      <td id=\"T_d7187_row15_col7\" class=\"data row15 col7\" >35.552612</td>\n",
              "    </tr>\n",
              "    <tr>\n",
              "      <th id=\"T_d7187_level0_row16\" class=\"row_heading level0 row16\" >16</th>\n",
              "      <td id=\"T_d7187_row16_col0\" class=\"data row16 col0\" >100000.000000</td>\n",
              "      <td id=\"T_d7187_row16_col1\" class=\"data row16 col1\" >-2.219093</td>\n",
              "      <td id=\"T_d7187_row16_col2\" class=\"data row16 col2\" >20.978809</td>\n",
              "      <td id=\"T_d7187_row16_col3\" class=\"data row16 col3\" >-91.657021</td>\n",
              "      <td id=\"T_d7187_row16_col4\" class=\"data row16 col4\" >-16.455604</td>\n",
              "      <td id=\"T_d7187_row16_col5\" class=\"data row16 col5\" >-2.339008</td>\n",
              "      <td id=\"T_d7187_row16_col6\" class=\"data row16 col6\" >11.702535</td>\n",
              "      <td id=\"T_d7187_row16_col7\" class=\"data row16 col7\" >94.324577</td>\n",
              "    </tr>\n",
              "    <tr>\n",
              "      <th id=\"T_d7187_level0_row17\" class=\"row_heading level0 row17\" >17</th>\n",
              "      <td id=\"T_d7187_row17_col0\" class=\"data row17 col0\" >100000.000000</td>\n",
              "      <td id=\"T_d7187_row17_col1\" class=\"data row17 col1\" >-12.964438</td>\n",
              "      <td id=\"T_d7187_row17_col2\" class=\"data row17 col2\" >55.210335</td>\n",
              "      <td id=\"T_d7187_row17_col3\" class=\"data row17 col3\" >-247.589279</td>\n",
              "      <td id=\"T_d7187_row17_col4\" class=\"data row17 col4\" >-49.612491</td>\n",
              "      <td id=\"T_d7187_row17_col5\" class=\"data row17 col5\" >-12.189709</td>\n",
              "      <td id=\"T_d7187_row17_col6\" class=\"data row17 col6\" >24.464662</td>\n",
              "      <td id=\"T_d7187_row17_col7\" class=\"data row17 col7\" >215.488052</td>\n",
              "    </tr>\n",
              "    <tr>\n",
              "      <th id=\"T_d7187_level0_row18\" class=\"row_heading level0 row18\" >18</th>\n",
              "      <td id=\"T_d7187_row18_col0\" class=\"data row18 col0\" >100000.000000</td>\n",
              "      <td id=\"T_d7187_row18_col1\" class=\"data row18 col1\" >-138.714600</td>\n",
              "      <td id=\"T_d7187_row18_col2\" class=\"data row18 col2\" >48.736771</td>\n",
              "      <td id=\"T_d7187_row18_col3\" class=\"data row18 col3\" >-326.648743</td>\n",
              "      <td id=\"T_d7187_row18_col4\" class=\"data row18 col4\" >-171.661354</td>\n",
              "      <td id=\"T_d7187_row18_col5\" class=\"data row18 col5\" >-139.009148</td>\n",
              "      <td id=\"T_d7187_row18_col6\" class=\"data row18 col6\" >-106.746861</td>\n",
              "      <td id=\"T_d7187_row18_col7\" class=\"data row18 col7\" >79.245163</td>\n",
              "    </tr>\n",
              "    <tr>\n",
              "      <th id=\"T_d7187_level0_row19\" class=\"row_heading level0 row19\" >19</th>\n",
              "      <td id=\"T_d7187_row19_col0\" class=\"data row19 col0\" >100000.000000</td>\n",
              "      <td id=\"T_d7187_row19_col1\" class=\"data row19 col1\" >-79.159805</td>\n",
              "      <td id=\"T_d7187_row19_col2\" class=\"data row19 col2\" >0.775558</td>\n",
              "      <td id=\"T_d7187_row19_col3\" class=\"data row19 col3\" >-82.637184</td>\n",
              "      <td id=\"T_d7187_row19_col4\" class=\"data row19 col4\" >-79.656816</td>\n",
              "      <td id=\"T_d7187_row19_col5\" class=\"data row19 col5\" >-79.137459</td>\n",
              "      <td id=\"T_d7187_row19_col6\" class=\"data row19 col6\" >-78.638893</td>\n",
              "      <td id=\"T_d7187_row19_col7\" class=\"data row19 col7\" >-75.835640</td>\n",
              "    </tr>\n",
              "    <tr>\n",
              "      <th id=\"T_d7187_level0_row20\" class=\"row_heading level0 row20\" >20</th>\n",
              "      <td id=\"T_d7187_row20_col0\" class=\"data row20 col0\" >100000.000000</td>\n",
              "      <td id=\"T_d7187_row20_col1\" class=\"data row20 col1\" >-97.474579</td>\n",
              "      <td id=\"T_d7187_row20_col2\" class=\"data row20 col2\" >28.381910</td>\n",
              "      <td id=\"T_d7187_row20_col3\" class=\"data row20 col3\" >-228.808258</td>\n",
              "      <td id=\"T_d7187_row20_col4\" class=\"data row20 col4\" >-115.407545</td>\n",
              "      <td id=\"T_d7187_row20_col5\" class=\"data row20 col5\" >-96.862698</td>\n",
              "      <td id=\"T_d7187_row20_col6\" class=\"data row20 col6\" >-78.583614</td>\n",
              "      <td id=\"T_d7187_row20_col7\" class=\"data row20 col7\" >26.484070</td>\n",
              "    </tr>\n",
              "    <tr>\n",
              "      <th id=\"T_d7187_level0_row21\" class=\"row_heading level0 row21\" >21</th>\n",
              "      <td id=\"T_d7187_row21_col0\" class=\"data row21 col0\" >100000.000000</td>\n",
              "      <td id=\"T_d7187_row21_col1\" class=\"data row21 col1\" >1297.269653</td>\n",
              "      <td id=\"T_d7187_row21_col2\" class=\"data row21 col2\" >375.028870</td>\n",
              "      <td id=\"T_d7187_row21_col3\" class=\"data row21 col3\" >136.873138</td>\n",
              "      <td id=\"T_d7187_row21_col4\" class=\"data row21 col4\" >1248.126221</td>\n",
              "      <td id=\"T_d7187_row21_col5\" class=\"data row21 col5\" >1507.231323</td>\n",
              "      <td id=\"T_d7187_row21_col6\" class=\"data row21 col6\" >1507.231323</td>\n",
              "      <td id=\"T_d7187_row21_col7\" class=\"data row21 col7\" >1557.383301</td>\n",
              "    </tr>\n",
              "    <tr>\n",
              "      <th id=\"T_d7187_level0_row22\" class=\"row_heading level0 row22\" >22</th>\n",
              "      <td id=\"T_d7187_row22_col0\" class=\"data row22 col0\" >100000.000000</td>\n",
              "      <td id=\"T_d7187_row22_col1\" class=\"data row22 col1\" >-3.600685</td>\n",
              "      <td id=\"T_d7187_row22_col2\" class=\"data row22 col2\" >50.063038</td>\n",
              "      <td id=\"T_d7187_row22_col3\" class=\"data row22 col3\" >-211.971802</td>\n",
              "      <td id=\"T_d7187_row22_col4\" class=\"data row22 col4\" >-37.047512</td>\n",
              "      <td id=\"T_d7187_row22_col5\" class=\"data row22 col5\" >-3.608930</td>\n",
              "      <td id=\"T_d7187_row22_col6\" class=\"data row22 col6\" >29.473402</td>\n",
              "      <td id=\"T_d7187_row22_col7\" class=\"data row22 col7\" >193.884308</td>\n",
              "    </tr>\n",
              "    <tr>\n",
              "      <th id=\"T_d7187_level0_row23\" class=\"row_heading level0 row23\" >23</th>\n",
              "      <td id=\"T_d7187_row23_col0\" class=\"data row23 col0\" >100000.000000</td>\n",
              "      <td id=\"T_d7187_row23_col1\" class=\"data row23 col1\" >55.908016</td>\n",
              "      <td id=\"T_d7187_row23_col2\" class=\"data row23 col2\" >35.617458</td>\n",
              "      <td id=\"T_d7187_row23_col3\" class=\"data row23 col3\" >-87.323776</td>\n",
              "      <td id=\"T_d7187_row23_col4\" class=\"data row23 col4\" >31.436790</td>\n",
              "      <td id=\"T_d7187_row23_col5\" class=\"data row23 col5\" >55.273705</td>\n",
              "      <td id=\"T_d7187_row23_col6\" class=\"data row23 col6\" >79.557543</td>\n",
              "      <td id=\"T_d7187_row23_col7\" class=\"data row23 col7\" >207.021057</td>\n",
              "    </tr>\n",
              "    <tr>\n",
              "      <th id=\"T_d7187_level0_row24\" class=\"row_heading level0 row24\" >24</th>\n",
              "      <td id=\"T_d7187_row24_col0\" class=\"data row24 col0\" >100000.000000</td>\n",
              "      <td id=\"T_d7187_row24_col1\" class=\"data row24 col1\" >23.470182</td>\n",
              "      <td id=\"T_d7187_row24_col2\" class=\"data row24 col2\" >40.802292</td>\n",
              "      <td id=\"T_d7187_row24_col3\" class=\"data row24 col3\" >-122.584274</td>\n",
              "      <td id=\"T_d7187_row24_col4\" class=\"data row24 col4\" >-5.051067</td>\n",
              "      <td id=\"T_d7187_row24_col5\" class=\"data row24 col5\" >23.306557</td>\n",
              "      <td id=\"T_d7187_row24_col6\" class=\"data row24 col6\" >51.787124</td>\n",
              "      <td id=\"T_d7187_row24_col7\" class=\"data row24 col7\" >199.461761</td>\n",
              "    </tr>\n",
              "    <tr>\n",
              "      <th id=\"T_d7187_level0_row25\" class=\"row_heading level0 row25\" >25</th>\n",
              "      <td id=\"T_d7187_row25_col0\" class=\"data row25 col0\" >100000.000000</td>\n",
              "      <td id=\"T_d7187_row25_col1\" class=\"data row25 col1\" >742.788879</td>\n",
              "      <td id=\"T_d7187_row25_col2\" class=\"data row25 col2\" >191.093948</td>\n",
              "      <td id=\"T_d7187_row25_col3\" class=\"data row25 col3\" >-61.803356</td>\n",
              "      <td id=\"T_d7187_row25_col4\" class=\"data row25 col4\" >813.770081</td>\n",
              "      <td id=\"T_d7187_row25_col5\" class=\"data row25 col5\" >813.770081</td>\n",
              "      <td id=\"T_d7187_row25_col6\" class=\"data row25 col6\" >813.770081</td>\n",
              "      <td id=\"T_d7187_row25_col7\" class=\"data row25 col7\" >845.708862</td>\n",
              "    </tr>\n",
              "    <tr>\n",
              "      <th id=\"T_d7187_level0_row26\" class=\"row_heading level0 row26\" >26</th>\n",
              "      <td id=\"T_d7187_row26_col0\" class=\"data row26 col0\" >100000.000000</td>\n",
              "      <td id=\"T_d7187_row26_col1\" class=\"data row26 col1\" >-64.970558</td>\n",
              "      <td id=\"T_d7187_row26_col2\" class=\"data row26 col2\" >63.159885</td>\n",
              "      <td id=\"T_d7187_row26_col3\" class=\"data row26 col3\" >-338.562500</td>\n",
              "      <td id=\"T_d7187_row26_col4\" class=\"data row26 col4\" >-106.860569</td>\n",
              "      <td id=\"T_d7187_row26_col5\" class=\"data row26 col5\" >-65.226215</td>\n",
              "      <td id=\"T_d7187_row26_col6\" class=\"data row26 col6\" >-22.893323</td>\n",
              "      <td id=\"T_d7187_row26_col7\" class=\"data row26 col7\" >192.107971</td>\n",
              "    </tr>\n",
              "    <tr>\n",
              "      <th id=\"T_d7187_level0_row27\" class=\"row_heading level0 row27\" >27</th>\n",
              "      <td id=\"T_d7187_row27_col0\" class=\"data row27 col0\" >100000.000000</td>\n",
              "      <td id=\"T_d7187_row27_col1\" class=\"data row27 col1\" >16.368073</td>\n",
              "      <td id=\"T_d7187_row27_col2\" class=\"data row27 col2\" >4.828546</td>\n",
              "      <td id=\"T_d7187_row27_col3\" class=\"data row27 col3\" >-6.629074</td>\n",
              "      <td id=\"T_d7187_row27_col4\" class=\"data row27 col4\" >13.187896</td>\n",
              "      <td id=\"T_d7187_row27_col5\" class=\"data row27 col5\" >16.473505</td>\n",
              "      <td id=\"T_d7187_row27_col6\" class=\"data row27 col6\" >19.662112</td>\n",
              "      <td id=\"T_d7187_row27_col7\" class=\"data row27 col7\" >35.112411</td>\n",
              "    </tr>\n",
              "    <tr>\n",
              "      <th id=\"T_d7187_level0_row28\" class=\"row_heading level0 row28\" >28</th>\n",
              "      <td id=\"T_d7187_row28_col0\" class=\"data row28 col0\" >100000.000000</td>\n",
              "      <td id=\"T_d7187_row28_col1\" class=\"data row28 col1\" >-86.201180</td>\n",
              "      <td id=\"T_d7187_row28_col2\" class=\"data row28 col2\" >49.511703</td>\n",
              "      <td id=\"T_d7187_row28_col3\" class=\"data row28 col3\" >-285.668701</td>\n",
              "      <td id=\"T_d7187_row28_col4\" class=\"data row28 col4\" >-119.613590</td>\n",
              "      <td id=\"T_d7187_row28_col5\" class=\"data row28 col5\" >-86.514153</td>\n",
              "      <td id=\"T_d7187_row28_col6\" class=\"data row28 col6\" >-53.064180</td>\n",
              "      <td id=\"T_d7187_row28_col7\" class=\"data row28 col7\" >101.514206</td>\n",
              "    </tr>\n",
              "    <tr>\n",
              "      <th id=\"T_d7187_level0_row29\" class=\"row_heading level0 row29\" >29</th>\n",
              "      <td id=\"T_d7187_row29_col0\" class=\"data row29 col0\" >100000.000000</td>\n",
              "      <td id=\"T_d7187_row29_col1\" class=\"data row29 col1\" >152.098068</td>\n",
              "      <td id=\"T_d7187_row29_col2\" class=\"data row29 col2\" >10.392421</td>\n",
              "      <td id=\"T_d7187_row29_col3\" class=\"data row29 col3\" >111.387253</td>\n",
              "      <td id=\"T_d7187_row29_col4\" class=\"data row29 col4\" >145.143005</td>\n",
              "      <td id=\"T_d7187_row29_col5\" class=\"data row29 col5\" >151.992226</td>\n",
              "      <td id=\"T_d7187_row29_col6\" class=\"data row29 col6\" >158.893875</td>\n",
              "      <td id=\"T_d7187_row29_col7\" class=\"data row29 col7\" >195.698563</td>\n",
              "    </tr>\n",
              "    <tr>\n",
              "      <th id=\"T_d7187_level0_row30\" class=\"row_heading level0 row30\" >30</th>\n",
              "      <td id=\"T_d7187_row30_col0\" class=\"data row30 col0\" >100000.000000</td>\n",
              "      <td id=\"T_d7187_row30_col1\" class=\"data row30 col1\" >-13.659321</td>\n",
              "      <td id=\"T_d7187_row30_col2\" class=\"data row30 col2\" >29.191545</td>\n",
              "      <td id=\"T_d7187_row30_col3\" class=\"data row30 col3\" >-130.444916</td>\n",
              "      <td id=\"T_d7187_row30_col4\" class=\"data row30 col4\" >-32.812501</td>\n",
              "      <td id=\"T_d7187_row30_col5\" class=\"data row30 col5\" >-13.218622</td>\n",
              "      <td id=\"T_d7187_row30_col6\" class=\"data row30 col6\" >5.975015</td>\n",
              "      <td id=\"T_d7187_row30_col7\" class=\"data row30 col7\" >102.204048</td>\n",
              "    </tr>\n",
              "    <tr>\n",
              "      <th id=\"T_d7187_level0_row31\" class=\"row_heading level0 row31\" >31</th>\n",
              "      <td id=\"T_d7187_row31_col0\" class=\"data row31 col0\" >100000.000000</td>\n",
              "      <td id=\"T_d7187_row31_col1\" class=\"data row31 col1\" >-144.506027</td>\n",
              "      <td id=\"T_d7187_row31_col2\" class=\"data row31 col2\" >35.816086</td>\n",
              "      <td id=\"T_d7187_row31_col3\" class=\"data row31 col3\" >-290.123993</td>\n",
              "      <td id=\"T_d7187_row31_col4\" class=\"data row31 col4\" >-168.535164</td>\n",
              "      <td id=\"T_d7187_row31_col5\" class=\"data row31 col5\" >-144.584503</td>\n",
              "      <td id=\"T_d7187_row31_col6\" class=\"data row31 col6\" >-120.439297</td>\n",
              "      <td id=\"T_d7187_row31_col7\" class=\"data row31 col7\" >10.103592</td>\n",
              "    </tr>\n",
              "    <tr>\n",
              "      <th id=\"T_d7187_level0_row32\" class=\"row_heading level0 row32\" >32</th>\n",
              "      <td id=\"T_d7187_row32_col0\" class=\"data row32 col0\" >100000.000000</td>\n",
              "      <td id=\"T_d7187_row32_col1\" class=\"data row32 col1\" >89.747887</td>\n",
              "      <td id=\"T_d7187_row32_col2\" class=\"data row32 col2\" >28.311773</td>\n",
              "      <td id=\"T_d7187_row32_col3\" class=\"data row32 col3\" >-25.550720</td>\n",
              "      <td id=\"T_d7187_row32_col4\" class=\"data row32 col4\" >70.432238</td>\n",
              "      <td id=\"T_d7187_row32_col5\" class=\"data row32 col5\" >89.966621</td>\n",
              "      <td id=\"T_d7187_row32_col6\" class=\"data row32 col6\" >109.219696</td>\n",
              "      <td id=\"T_d7187_row32_col7\" class=\"data row32 col7\" >198.149780</td>\n",
              "    </tr>\n",
              "    <tr>\n",
              "      <th id=\"T_d7187_level0_row33\" class=\"row_heading level0 row33\" >33</th>\n",
              "      <td id=\"T_d7187_row33_col0\" class=\"data row33 col0\" >100000.000000</td>\n",
              "      <td id=\"T_d7187_row33_col1\" class=\"data row33 col1\" >-587.551758</td>\n",
              "      <td id=\"T_d7187_row33_col2\" class=\"data row33 col2\" >273.313446</td>\n",
              "      <td id=\"T_d7187_row33_col3\" class=\"data row33 col3\" >-1044.135620</td>\n",
              "      <td id=\"T_d7187_row33_col4\" class=\"data row33 col4\" >-803.390686</td>\n",
              "      <td id=\"T_d7187_row33_col5\" class=\"data row33 col5\" >-579.590393</td>\n",
              "      <td id=\"T_d7187_row33_col6\" class=\"data row33 col6\" >-349.545044</td>\n",
              "      <td id=\"T_d7187_row33_col7\" class=\"data row33 col7\" >-137.646759</td>\n",
              "    </tr>\n",
              "    <tr>\n",
              "      <th id=\"T_d7187_level0_row34\" class=\"row_heading level0 row34\" >34</th>\n",
              "      <td id=\"T_d7187_row34_col0\" class=\"data row34 col0\" >100000.000000</td>\n",
              "      <td id=\"T_d7187_row34_col1\" class=\"data row34 col1\" >36.468208</td>\n",
              "      <td id=\"T_d7187_row34_col2\" class=\"data row34 col2\" >39.756180</td>\n",
              "      <td id=\"T_d7187_row34_col3\" class=\"data row34 col3\" >-119.903809</td>\n",
              "      <td id=\"T_d7187_row34_col4\" class=\"data row34 col4\" >9.505674</td>\n",
              "      <td id=\"T_d7187_row34_col5\" class=\"data row34 col5\" >36.398790</td>\n",
              "      <td id=\"T_d7187_row34_col6\" class=\"data row34 col6\" >63.628357</td>\n",
              "      <td id=\"T_d7187_row34_col7\" class=\"data row34 col7\" >206.765244</td>\n",
              "    </tr>\n",
              "    <tr>\n",
              "      <th id=\"T_d7187_level0_row35\" class=\"row_heading level0 row35\" >35</th>\n",
              "      <td id=\"T_d7187_row35_col0\" class=\"data row35 col0\" >100000.000000</td>\n",
              "      <td id=\"T_d7187_row35_col1\" class=\"data row35 col1\" >73.109596</td>\n",
              "      <td id=\"T_d7187_row35_col2\" class=\"data row35 col2\" >20.008009</td>\n",
              "      <td id=\"T_d7187_row35_col3\" class=\"data row35 col3\" >-11.926712</td>\n",
              "      <td id=\"T_d7187_row35_col4\" class=\"data row35 col4\" >59.978086</td>\n",
              "      <td id=\"T_d7187_row35_col5\" class=\"data row35 col5\" >73.121086</td>\n",
              "      <td id=\"T_d7187_row35_col6\" class=\"data row35 col6\" >86.277287</td>\n",
              "      <td id=\"T_d7187_row35_col7\" class=\"data row35 col7\" >156.648193</td>\n",
              "    </tr>\n",
              "    <tr>\n",
              "      <th id=\"T_d7187_level0_row36\" class=\"row_heading level0 row36\" >36</th>\n",
              "      <td id=\"T_d7187_row36_col0\" class=\"data row36 col0\" >100000.000000</td>\n",
              "      <td id=\"T_d7187_row36_col1\" class=\"data row36 col1\" >-13.866967</td>\n",
              "      <td id=\"T_d7187_row36_col2\" class=\"data row36 col2\" >25.824837</td>\n",
              "      <td id=\"T_d7187_row36_col3\" class=\"data row36 col3\" >-124.560379</td>\n",
              "      <td id=\"T_d7187_row36_col4\" class=\"data row36 col4\" >-30.926924</td>\n",
              "      <td id=\"T_d7187_row36_col5\" class=\"data row36 col5\" >-13.399445</td>\n",
              "      <td id=\"T_d7187_row36_col6\" class=\"data row36 col6\" >3.638963</td>\n",
              "      <td id=\"T_d7187_row36_col7\" class=\"data row36 col7\" >87.089355</td>\n",
              "    </tr>\n",
              "    <tr>\n",
              "      <th id=\"T_d7187_level0_row37\" class=\"row_heading level0 row37\" >37</th>\n",
              "      <td id=\"T_d7187_row37_col0\" class=\"data row37 col0\" >100000.000000</td>\n",
              "      <td id=\"T_d7187_row37_col1\" class=\"data row37 col1\" >-146.487274</td>\n",
              "      <td id=\"T_d7187_row37_col2\" class=\"data row37 col2\" >10.383883</td>\n",
              "      <td id=\"T_d7187_row37_col3\" class=\"data row37 col3\" >-193.918152</td>\n",
              "      <td id=\"T_d7187_row37_col4\" class=\"data row37 col4\" >-153.339211</td>\n",
              "      <td id=\"T_d7187_row37_col5\" class=\"data row37 col5\" >-146.415016</td>\n",
              "      <td id=\"T_d7187_row37_col6\" class=\"data row37 col6\" >-139.454014</td>\n",
              "      <td id=\"T_d7187_row37_col7\" class=\"data row37 col7\" >-101.977623</td>\n",
              "    </tr>\n",
              "    <tr>\n",
              "      <th id=\"T_d7187_level0_row38\" class=\"row_heading level0 row38\" >38</th>\n",
              "      <td id=\"T_d7187_row38_col0\" class=\"data row38 col0\" >100000.000000</td>\n",
              "      <td id=\"T_d7187_row38_col1\" class=\"data row38 col1\" >-118.336456</td>\n",
              "      <td id=\"T_d7187_row38_col2\" class=\"data row38 col2\" >13.578311</td>\n",
              "      <td id=\"T_d7187_row38_col3\" class=\"data row38 col3\" >-166.078461</td>\n",
              "      <td id=\"T_d7187_row38_col4\" class=\"data row38 col4\" >-127.603405</td>\n",
              "      <td id=\"T_d7187_row38_col5\" class=\"data row38 col5\" >-118.359200</td>\n",
              "      <td id=\"T_d7187_row38_col6\" class=\"data row38 col6\" >-109.068438</td>\n",
              "      <td id=\"T_d7187_row38_col7\" class=\"data row38 col7\" >-61.248470</td>\n",
              "    </tr>\n",
              "    <tr>\n",
              "      <th id=\"T_d7187_level0_row39\" class=\"row_heading level0 row39\" >39</th>\n",
              "      <td id=\"T_d7187_row39_col0\" class=\"data row39 col0\" >100000.000000</td>\n",
              "      <td id=\"T_d7187_row39_col1\" class=\"data row39 col1\" >-41.131966</td>\n",
              "      <td id=\"T_d7187_row39_col2\" class=\"data row39 col2\" >19.868217</td>\n",
              "      <td id=\"T_d7187_row39_col3\" class=\"data row39 col3\" >-123.062424</td>\n",
              "      <td id=\"T_d7187_row39_col4\" class=\"data row39 col4\" >-54.589425</td>\n",
              "      <td id=\"T_d7187_row39_col5\" class=\"data row39 col5\" >-41.346603</td>\n",
              "      <td id=\"T_d7187_row39_col6\" class=\"data row39 col6\" >-27.693264</td>\n",
              "      <td id=\"T_d7187_row39_col7\" class=\"data row39 col7\" >34.684986</td>\n",
              "    </tr>\n",
              "    <tr>\n",
              "      <th id=\"T_d7187_level0_row40\" class=\"row_heading level0 row40\" >40</th>\n",
              "      <td id=\"T_d7187_row40_col0\" class=\"data row40 col0\" >100000.000000</td>\n",
              "      <td id=\"T_d7187_row40_col1\" class=\"data row40 col1\" >-9.261504</td>\n",
              "      <td id=\"T_d7187_row40_col2\" class=\"data row40 col2\" >8.295337</td>\n",
              "      <td id=\"T_d7187_row40_col3\" class=\"data row40 col3\" >-43.063824</td>\n",
              "      <td id=\"T_d7187_row40_col4\" class=\"data row40 col4\" >-14.772180</td>\n",
              "      <td id=\"T_d7187_row40_col5\" class=\"data row40 col5\" >-9.213719</td>\n",
              "      <td id=\"T_d7187_row40_col6\" class=\"data row40 col6\" >-3.671712</td>\n",
              "      <td id=\"T_d7187_row40_col7\" class=\"data row40 col7\" >24.319061</td>\n",
              "    </tr>\n",
              "    <tr>\n",
              "      <th id=\"T_d7187_level0_row41\" class=\"row_heading level0 row41\" >41</th>\n",
              "      <td id=\"T_d7187_row41_col0\" class=\"data row41 col0\" >100000.000000</td>\n",
              "      <td id=\"T_d7187_row41_col1\" class=\"data row41 col1\" >4.139978</td>\n",
              "      <td id=\"T_d7187_row41_col2\" class=\"data row41 col2\" >5.922058</td>\n",
              "      <td id=\"T_d7187_row41_col3\" class=\"data row41 col3\" >-18.980648</td>\n",
              "      <td id=\"T_d7187_row41_col4\" class=\"data row41 col4\" >0.086251</td>\n",
              "      <td id=\"T_d7187_row41_col5\" class=\"data row41 col5\" >4.213268</td>\n",
              "      <td id=\"T_d7187_row41_col6\" class=\"data row41 col6\" >8.247888</td>\n",
              "      <td id=\"T_d7187_row41_col7\" class=\"data row41 col7\" >25.914757</td>\n",
              "    </tr>\n",
              "    <tr>\n",
              "      <th id=\"T_d7187_level0_row42\" class=\"row_heading level0 row42\" >42</th>\n",
              "      <td id=\"T_d7187_row42_col0\" class=\"data row42 col0\" >100000.000000</td>\n",
              "      <td id=\"T_d7187_row42_col1\" class=\"data row42 col1\" >-104.928802</td>\n",
              "      <td id=\"T_d7187_row42_col2\" class=\"data row42 col2\" >56.519135</td>\n",
              "      <td id=\"T_d7187_row42_col3\" class=\"data row42 col3\" >-324.943573</td>\n",
              "      <td id=\"T_d7187_row42_col4\" class=\"data row42 col4\" >-144.015457</td>\n",
              "      <td id=\"T_d7187_row42_col5\" class=\"data row42 col5\" >-106.112492</td>\n",
              "      <td id=\"T_d7187_row42_col6\" class=\"data row42 col6\" >-66.750507</td>\n",
              "      <td id=\"T_d7187_row42_col7\" class=\"data row42 col7\" >116.187912</td>\n",
              "    </tr>\n",
              "    <tr>\n",
              "      <th id=\"T_d7187_level0_row43\" class=\"row_heading level0 row43\" >43</th>\n",
              "      <td id=\"T_d7187_row43_col0\" class=\"data row43 col0\" >100000.000000</td>\n",
              "      <td id=\"T_d7187_row43_col1\" class=\"data row43 col1\" >122.240791</td>\n",
              "      <td id=\"T_d7187_row43_col2\" class=\"data row43 col2\" >48.109509</td>\n",
              "      <td id=\"T_d7187_row43_col3\" class=\"data row43 col3\" >-67.540375</td>\n",
              "      <td id=\"T_d7187_row43_col4\" class=\"data row43 col4\" >89.138641</td>\n",
              "      <td id=\"T_d7187_row43_col5\" class=\"data row43 col5\" >122.344315</td>\n",
              "      <td id=\"T_d7187_row43_col6\" class=\"data row43 col6\" >154.744473</td>\n",
              "      <td id=\"T_d7187_row43_col7\" class=\"data row43 col7\" >335.559448</td>\n",
              "    </tr>\n",
              "    <tr>\n",
              "      <th id=\"T_d7187_level0_row44\" class=\"row_heading level0 row44\" >44</th>\n",
              "      <td id=\"T_d7187_row44_col0\" class=\"data row44 col0\" >100000.000000</td>\n",
              "      <td id=\"T_d7187_row44_col1\" class=\"data row44 col1\" >-40.320210</td>\n",
              "      <td id=\"T_d7187_row44_col2\" class=\"data row44 col2\" >14.739657</td>\n",
              "      <td id=\"T_d7187_row44_col3\" class=\"data row44 col3\" >-63.102402</td>\n",
              "      <td id=\"T_d7187_row44_col4\" class=\"data row44 col4\" >-53.806740</td>\n",
              "      <td id=\"T_d7187_row44_col5\" class=\"data row44 col5\" >-39.954563</td>\n",
              "      <td id=\"T_d7187_row44_col6\" class=\"data row44 col6\" >-26.757267</td>\n",
              "      <td id=\"T_d7187_row44_col7\" class=\"data row44 col7\" >-16.052626</td>\n",
              "    </tr>\n",
              "    <tr>\n",
              "      <th id=\"T_d7187_level0_row45\" class=\"row_heading level0 row45\" >45</th>\n",
              "      <td id=\"T_d7187_row45_col0\" class=\"data row45 col0\" >100000.000000</td>\n",
              "      <td id=\"T_d7187_row45_col1\" class=\"data row45 col1\" >59.051987</td>\n",
              "      <td id=\"T_d7187_row45_col2\" class=\"data row45 col2\" >31.087902</td>\n",
              "      <td id=\"T_d7187_row45_col3\" class=\"data row45 col3\" >-64.789688</td>\n",
              "      <td id=\"T_d7187_row45_col4\" class=\"data row45 col4\" >37.832466</td>\n",
              "      <td id=\"T_d7187_row45_col5\" class=\"data row45 col5\" >59.343555</td>\n",
              "      <td id=\"T_d7187_row45_col6\" class=\"data row45 col6\" >80.604097</td>\n",
              "      <td id=\"T_d7187_row45_col7\" class=\"data row45 col7\" >175.807739</td>\n",
              "    </tr>\n",
              "    <tr>\n",
              "      <th id=\"T_d7187_level0_row46\" class=\"row_heading level0 row46\" >46</th>\n",
              "      <td id=\"T_d7187_row46_col0\" class=\"data row46 col0\" >100000.000000</td>\n",
              "      <td id=\"T_d7187_row46_col1\" class=\"data row46 col1\" >-84.054390</td>\n",
              "      <td id=\"T_d7187_row46_col2\" class=\"data row46 col2\" >66.054283</td>\n",
              "      <td id=\"T_d7187_row46_col3\" class=\"data row46 col3\" >-327.322723</td>\n",
              "      <td id=\"T_d7187_row46_col4\" class=\"data row46 col4\" >-129.672707</td>\n",
              "      <td id=\"T_d7187_row46_col5\" class=\"data row46 col5\" >-85.365555</td>\n",
              "      <td id=\"T_d7187_row46_col6\" class=\"data row46 col6\" >-39.212476</td>\n",
              "      <td id=\"T_d7187_row46_col7\" class=\"data row46 col7\" >200.449890</td>\n",
              "    </tr>\n",
              "    <tr>\n",
              "      <th id=\"T_d7187_level0_row47\" class=\"row_heading level0 row47\" >47</th>\n",
              "      <td id=\"T_d7187_row47_col0\" class=\"data row47 col0\" >100000.000000</td>\n",
              "      <td id=\"T_d7187_row47_col1\" class=\"data row47 col1\" >-140.787857</td>\n",
              "      <td id=\"T_d7187_row47_col2\" class=\"data row47 col2\" >59.850597</td>\n",
              "      <td id=\"T_d7187_row47_col3\" class=\"data row47 col3\" >-365.060883</td>\n",
              "      <td id=\"T_d7187_row47_col4\" class=\"data row47 col4\" >-181.176132</td>\n",
              "      <td id=\"T_d7187_row47_col5\" class=\"data row47 col5\" >-140.503563</td>\n",
              "      <td id=\"T_d7187_row47_col6\" class=\"data row47 col6\" >-100.564152</td>\n",
              "      <td id=\"T_d7187_row47_col7\" class=\"data row47 col7\" >110.089996</td>\n",
              "    </tr>\n",
              "    <tr>\n",
              "      <th id=\"T_d7187_level0_row48\" class=\"row_heading level0 row48\" >48</th>\n",
              "      <td id=\"T_d7187_row48_col0\" class=\"data row48 col0\" >100000.000000</td>\n",
              "      <td id=\"T_d7187_row48_col1\" class=\"data row48 col1\" >46.137852</td>\n",
              "      <td id=\"T_d7187_row48_col2\" class=\"data row48 col2\" >46.327892</td>\n",
              "      <td id=\"T_d7187_row48_col3\" class=\"data row48 col3\" >-129.879181</td>\n",
              "      <td id=\"T_d7187_row48_col4\" class=\"data row48 col4\" >14.323097</td>\n",
              "      <td id=\"T_d7187_row48_col5\" class=\"data row48 col5\" >45.499802</td>\n",
              "      <td id=\"T_d7187_row48_col6\" class=\"data row48 col6\" >77.578918</td>\n",
              "      <td id=\"T_d7187_row48_col7\" class=\"data row48 col7\" >232.165512</td>\n",
              "    </tr>\n",
              "    <tr>\n",
              "      <th id=\"T_d7187_level0_row49\" class=\"row_heading level0 row49\" >49</th>\n",
              "      <td id=\"T_d7187_row49_col0\" class=\"data row49 col0\" >100000.000000</td>\n",
              "      <td id=\"T_d7187_row49_col1\" class=\"data row49 col1\" >-34.136871</td>\n",
              "      <td id=\"T_d7187_row49_col2\" class=\"data row49 col2\" >59.325134</td>\n",
              "      <td id=\"T_d7187_row49_col3\" class=\"data row49 col3\" >-280.371826</td>\n",
              "      <td id=\"T_d7187_row49_col4\" class=\"data row49 col4\" >-73.415321</td>\n",
              "      <td id=\"T_d7187_row49_col5\" class=\"data row49 col5\" >-31.942193</td>\n",
              "      <td id=\"T_d7187_row49_col6\" class=\"data row49 col6\" >6.814449</td>\n",
              "      <td id=\"T_d7187_row49_col7\" class=\"data row49 col7\" >191.037415</td>\n",
              "    </tr>\n",
              "    <tr>\n",
              "      <th id=\"T_d7187_level0_row50\" class=\"row_heading level0 row50\" >50</th>\n",
              "      <td id=\"T_d7187_row50_col0\" class=\"data row50 col0\" >100000.000000</td>\n",
              "      <td id=\"T_d7187_row50_col1\" class=\"data row50 col1\" >29.462925</td>\n",
              "      <td id=\"T_d7187_row50_col2\" class=\"data row50 col2\" >60.933994</td>\n",
              "      <td id=\"T_d7187_row50_col3\" class=\"data row50 col3\" >-250.337570</td>\n",
              "      <td id=\"T_d7187_row50_col4\" class=\"data row50 col4\" >-11.033692</td>\n",
              "      <td id=\"T_d7187_row50_col5\" class=\"data row50 col5\" >30.274883</td>\n",
              "      <td id=\"T_d7187_row50_col6\" class=\"data row50 col6\" >70.794575</td>\n",
              "      <td id=\"T_d7187_row50_col7\" class=\"data row50 col7\" >257.152405</td>\n",
              "    </tr>\n",
              "    <tr>\n",
              "      <th id=\"T_d7187_level0_row51\" class=\"row_heading level0 row51\" >51</th>\n",
              "      <td id=\"T_d7187_row51_col0\" class=\"data row51 col0\" >100000.000000</td>\n",
              "      <td id=\"T_d7187_row51_col1\" class=\"data row51 col1\" >-22.343452</td>\n",
              "      <td id=\"T_d7187_row51_col2\" class=\"data row51 col2\" >54.991631</td>\n",
              "      <td id=\"T_d7187_row51_col3\" class=\"data row51 col3\" >-236.148468</td>\n",
              "      <td id=\"T_d7187_row51_col4\" class=\"data row51 col4\" >-59.606014</td>\n",
              "      <td id=\"T_d7187_row51_col5\" class=\"data row51 col5\" >-23.291442</td>\n",
              "      <td id=\"T_d7187_row51_col6\" class=\"data row51 col6\" >14.649595</td>\n",
              "      <td id=\"T_d7187_row51_col7\" class=\"data row51 col7\" >212.168594</td>\n",
              "    </tr>\n",
              "    <tr>\n",
              "      <th id=\"T_d7187_level0_row52\" class=\"row_heading level0 row52\" >52</th>\n",
              "      <td id=\"T_d7187_row52_col0\" class=\"data row52 col0\" >100000.000000</td>\n",
              "      <td id=\"T_d7187_row52_col1\" class=\"data row52 col1\" >67.581085</td>\n",
              "      <td id=\"T_d7187_row52_col2\" class=\"data row52 col2\" >12.988054</td>\n",
              "      <td id=\"T_d7187_row52_col3\" class=\"data row52 col3\" >18.477039</td>\n",
              "      <td id=\"T_d7187_row52_col4\" class=\"data row52 col4\" >58.553988</td>\n",
              "      <td id=\"T_d7187_row52_col5\" class=\"data row52 col5\" >67.261280</td>\n",
              "      <td id=\"T_d7187_row52_col6\" class=\"data row52 col6\" >76.496658</td>\n",
              "      <td id=\"T_d7187_row52_col7\" class=\"data row52 col7\" >121.795990</td>\n",
              "    </tr>\n",
              "    <tr>\n",
              "      <th id=\"T_d7187_level0_row53\" class=\"row_heading level0 row53\" >53</th>\n",
              "      <td id=\"T_d7187_row53_col0\" class=\"data row53 col0\" >100000.000000</td>\n",
              "      <td id=\"T_d7187_row53_col1\" class=\"data row53 col1\" >-120.052757</td>\n",
              "      <td id=\"T_d7187_row53_col2\" class=\"data row53 col2\" >55.920296</td>\n",
              "      <td id=\"T_d7187_row53_col3\" class=\"data row53 col3\" >-354.915710</td>\n",
              "      <td id=\"T_d7187_row53_col4\" class=\"data row53 col4\" >-157.929585</td>\n",
              "      <td id=\"T_d7187_row53_col5\" class=\"data row53 col5\" >-120.103630</td>\n",
              "      <td id=\"T_d7187_row53_col6\" class=\"data row53 col6\" >-81.456451</td>\n",
              "      <td id=\"T_d7187_row53_col7\" class=\"data row53 col7\" >111.493469</td>\n",
              "    </tr>\n",
              "    <tr>\n",
              "      <th id=\"T_d7187_level0_row54\" class=\"row_heading level0 row54\" >54</th>\n",
              "      <td id=\"T_d7187_row54_col0\" class=\"data row54 col0\" >100000.000000</td>\n",
              "      <td id=\"T_d7187_row54_col1\" class=\"data row54 col1\" >88.193672</td>\n",
              "      <td id=\"T_d7187_row54_col2\" class=\"data row54 col2\" >4.823987</td>\n",
              "      <td id=\"T_d7187_row54_col3\" class=\"data row54 col3\" >66.068665</td>\n",
              "      <td id=\"T_d7187_row54_col4\" class=\"data row54 col4\" >84.912361</td>\n",
              "      <td id=\"T_d7187_row54_col5\" class=\"data row54 col5\" >88.187428</td>\n",
              "      <td id=\"T_d7187_row54_col6\" class=\"data row54 col6\" >91.454086</td>\n",
              "      <td id=\"T_d7187_row54_col7\" class=\"data row54 col7\" >107.387543</td>\n",
              "    </tr>\n",
              "    <tr>\n",
              "      <th id=\"T_d7187_level0_row55\" class=\"row_heading level0 row55\" >55</th>\n",
              "      <td id=\"T_d7187_row55_col0\" class=\"data row55 col0\" >100000.000000</td>\n",
              "      <td id=\"T_d7187_row55_col1\" class=\"data row55 col1\" >69.538757</td>\n",
              "      <td id=\"T_d7187_row55_col2\" class=\"data row55 col2\" >12.339555</td>\n",
              "      <td id=\"T_d7187_row55_col3\" class=\"data row55 col3\" >18.104557</td>\n",
              "      <td id=\"T_d7187_row55_col4\" class=\"data row55 col4\" >61.211435</td>\n",
              "      <td id=\"T_d7187_row55_col5\" class=\"data row55 col5\" >69.655090</td>\n",
              "      <td id=\"T_d7187_row55_col6\" class=\"data row55 col6\" >77.978012</td>\n",
              "      <td id=\"T_d7187_row55_col7\" class=\"data row55 col7\" >116.727646</td>\n",
              "    </tr>\n",
              "    <tr>\n",
              "      <th id=\"T_d7187_level0_row56\" class=\"row_heading level0 row56\" >56</th>\n",
              "      <td id=\"T_d7187_row56_col0\" class=\"data row56 col0\" >100000.000000</td>\n",
              "      <td id=\"T_d7187_row56_col1\" class=\"data row56 col1\" >-132.336960</td>\n",
              "      <td id=\"T_d7187_row56_col2\" class=\"data row56 col2\" >7.952054</td>\n",
              "      <td id=\"T_d7187_row56_col3\" class=\"data row56 col3\" >-161.189316</td>\n",
              "      <td id=\"T_d7187_row56_col4\" class=\"data row56 col4\" >-137.752174</td>\n",
              "      <td id=\"T_d7187_row56_col5\" class=\"data row56 col5\" >-132.256439</td>\n",
              "      <td id=\"T_d7187_row56_col6\" class=\"data row56 col6\" >-126.864683</td>\n",
              "      <td id=\"T_d7187_row56_col7\" class=\"data row56 col7\" >-99.661171</td>\n",
              "    </tr>\n",
              "    <tr>\n",
              "      <th id=\"T_d7187_level0_row57\" class=\"row_heading level0 row57\" >57</th>\n",
              "      <td id=\"T_d7187_row57_col0\" class=\"data row57 col0\" >100000.000000</td>\n",
              "      <td id=\"T_d7187_row57_col1\" class=\"data row57 col1\" >14.452682</td>\n",
              "      <td id=\"T_d7187_row57_col2\" class=\"data row57 col2\" >49.234425</td>\n",
              "      <td id=\"T_d7187_row57_col3\" class=\"data row57 col3\" >-183.849884</td>\n",
              "      <td id=\"T_d7187_row57_col4\" class=\"data row57 col4\" >-19.537687</td>\n",
              "      <td id=\"T_d7187_row57_col5\" class=\"data row57 col5\" >13.610872</td>\n",
              "      <td id=\"T_d7187_row57_col6\" class=\"data row57 col6\" >48.039565</td>\n",
              "      <td id=\"T_d7187_row57_col7\" class=\"data row57 col7\" >193.693497</td>\n",
              "    </tr>\n",
              "    <tr>\n",
              "      <th id=\"T_d7187_level0_row58\" class=\"row_heading level0 row58\" >58</th>\n",
              "      <td id=\"T_d7187_row58_col0\" class=\"data row58 col0\" >100000.000000</td>\n",
              "      <td id=\"T_d7187_row58_col1\" class=\"data row58 col1\" >-120.301842</td>\n",
              "      <td id=\"T_d7187_row58_col2\" class=\"data row58 col2\" >55.729603</td>\n",
              "      <td id=\"T_d7187_row58_col3\" class=\"data row58 col3\" >-330.638184</td>\n",
              "      <td id=\"T_d7187_row58_col4\" class=\"data row58 col4\" >-158.719345</td>\n",
              "      <td id=\"T_d7187_row58_col5\" class=\"data row58 col5\" >-120.229031</td>\n",
              "      <td id=\"T_d7187_row58_col6\" class=\"data row58 col6\" >-81.684708</td>\n",
              "      <td id=\"T_d7187_row58_col7\" class=\"data row58 col7\" >107.606247</td>\n",
              "    </tr>\n",
              "    <tr>\n",
              "      <th id=\"T_d7187_level0_row59\" class=\"row_heading level0 row59\" >59</th>\n",
              "      <td id=\"T_d7187_row59_col0\" class=\"data row59 col0\" >100000.000000</td>\n",
              "      <td id=\"T_d7187_row59_col1\" class=\"data row59 col1\" >-315.282257</td>\n",
              "      <td id=\"T_d7187_row59_col2\" class=\"data row59 col2\" >210.656769</td>\n",
              "      <td id=\"T_d7187_row59_col3\" class=\"data row59 col3\" >-681.029297</td>\n",
              "      <td id=\"T_d7187_row59_col4\" class=\"data row59 col4\" >-497.152634</td>\n",
              "      <td id=\"T_d7187_row59_col5\" class=\"data row59 col5\" >-315.177216</td>\n",
              "      <td id=\"T_d7187_row59_col6\" class=\"data row59 col6\" >-132.410419</td>\n",
              "      <td id=\"T_d7187_row59_col7\" class=\"data row59 col7\" >48.723812</td>\n",
              "    </tr>\n",
              "    <tr>\n",
              "      <th id=\"T_d7187_level0_row60\" class=\"row_heading level0 row60\" >60</th>\n",
              "      <td id=\"T_d7187_row60_col0\" class=\"data row60 col0\" >100000.000000</td>\n",
              "      <td id=\"T_d7187_row60_col1\" class=\"data row60 col1\" >-66.378662</td>\n",
              "      <td id=\"T_d7187_row60_col2\" class=\"data row60 col2\" >64.912834</td>\n",
              "      <td id=\"T_d7187_row60_col3\" class=\"data row60 col3\" >-358.460449</td>\n",
              "      <td id=\"T_d7187_row60_col4\" class=\"data row60 col4\" >-110.071388</td>\n",
              "      <td id=\"T_d7187_row60_col5\" class=\"data row60 col5\" >-65.254955</td>\n",
              "      <td id=\"T_d7187_row60_col6\" class=\"data row60 col6\" >-21.824901</td>\n",
              "      <td id=\"T_d7187_row60_col7\" class=\"data row60 col7\" >189.175507</td>\n",
              "    </tr>\n",
              "    <tr>\n",
              "      <th id=\"T_d7187_level0_row61\" class=\"row_heading level0 row61\" >61</th>\n",
              "      <td id=\"T_d7187_row61_col0\" class=\"data row61 col0\" >100000.000000</td>\n",
              "      <td id=\"T_d7187_row61_col1\" class=\"data row61 col1\" >-130.672180</td>\n",
              "      <td id=\"T_d7187_row61_col2\" class=\"data row61 col2\" >9.408023</td>\n",
              "      <td id=\"T_d7187_row61_col3\" class=\"data row61 col3\" >-169.566406</td>\n",
              "      <td id=\"T_d7187_row61_col4\" class=\"data row61 col4\" >-137.069839</td>\n",
              "      <td id=\"T_d7187_row61_col5\" class=\"data row61 col5\" >-130.803772</td>\n",
              "      <td id=\"T_d7187_row61_col6\" class=\"data row61 col6\" >-124.460043</td>\n",
              "      <td id=\"T_d7187_row61_col7\" class=\"data row61 col7\" >-92.037041</td>\n",
              "    </tr>\n",
              "    <tr>\n",
              "      <th id=\"T_d7187_level0_row62\" class=\"row_heading level0 row62\" >62</th>\n",
              "      <td id=\"T_d7187_row62_col0\" class=\"data row62 col0\" >100000.000000</td>\n",
              "      <td id=\"T_d7187_row62_col1\" class=\"data row62 col1\" >-81.145546</td>\n",
              "      <td id=\"T_d7187_row62_col2\" class=\"data row62 col2\" >30.675676</td>\n",
              "      <td id=\"T_d7187_row62_col3\" class=\"data row62 col3\" >-210.059311</td>\n",
              "      <td id=\"T_d7187_row62_col4\" class=\"data row62 col4\" >-101.504827</td>\n",
              "      <td id=\"T_d7187_row62_col5\" class=\"data row62 col5\" >-80.859642</td>\n",
              "      <td id=\"T_d7187_row62_col6\" class=\"data row62 col6\" >-60.492451</td>\n",
              "      <td id=\"T_d7187_row62_col7\" class=\"data row62 col7\" >47.733452</td>\n",
              "    </tr>\n",
              "    <tr>\n",
              "      <th id=\"T_d7187_level0_row63\" class=\"row_heading level0 row63\" >63</th>\n",
              "      <td id=\"T_d7187_row63_col0\" class=\"data row63 col0\" >100000.000000</td>\n",
              "      <td id=\"T_d7187_row63_col1\" class=\"data row63 col1\" >36.898239</td>\n",
              "      <td id=\"T_d7187_row63_col2\" class=\"data row63 col2\" >25.357527</td>\n",
              "      <td id=\"T_d7187_row63_col3\" class=\"data row63 col3\" >-60.779335</td>\n",
              "      <td id=\"T_d7187_row63_col4\" class=\"data row63 col4\" >19.774803</td>\n",
              "      <td id=\"T_d7187_row63_col5\" class=\"data row63 col5\" >36.711365</td>\n",
              "      <td id=\"T_d7187_row63_col6\" class=\"data row63 col6\" >53.919519</td>\n",
              "      <td id=\"T_d7187_row63_col7\" class=\"data row63 col7\" >145.667130</td>\n",
              "    </tr>\n",
              "    <tr>\n",
              "      <th id=\"T_d7187_level0_row64\" class=\"row_heading level0 row64\" >64</th>\n",
              "      <td id=\"T_d7187_row64_col0\" class=\"data row64 col0\" >100000.000000</td>\n",
              "      <td id=\"T_d7187_row64_col1\" class=\"data row64 col1\" >-152.223083</td>\n",
              "      <td id=\"T_d7187_row64_col2\" class=\"data row64 col2\" >41.019951</td>\n",
              "      <td id=\"T_d7187_row64_col3\" class=\"data row64 col3\" >-317.831665</td>\n",
              "      <td id=\"T_d7187_row64_col4\" class=\"data row64 col4\" >-178.929470</td>\n",
              "      <td id=\"T_d7187_row64_col5\" class=\"data row64 col5\" >-151.576988</td>\n",
              "      <td id=\"T_d7187_row64_col6\" class=\"data row64 col6\" >-124.436975</td>\n",
              "      <td id=\"T_d7187_row64_col7\" class=\"data row64 col7\" >11.907364</td>\n",
              "    </tr>\n",
              "    <tr>\n",
              "      <th id=\"T_d7187_level0_row65\" class=\"row_heading level0 row65\" >65</th>\n",
              "      <td id=\"T_d7187_row65_col0\" class=\"data row65 col0\" >100000.000000</td>\n",
              "      <td id=\"T_d7187_row65_col1\" class=\"data row65 col1\" >14.001695</td>\n",
              "      <td id=\"T_d7187_row65_col2\" class=\"data row65 col2\" >99.079094</td>\n",
              "      <td id=\"T_d7187_row65_col3\" class=\"data row65 col3\" >-157.590195</td>\n",
              "      <td id=\"T_d7187_row65_col4\" class=\"data row65 col4\" >-71.745020</td>\n",
              "      <td id=\"T_d7187_row65_col5\" class=\"data row65 col5\" >14.072662</td>\n",
              "      <td id=\"T_d7187_row65_col6\" class=\"data row65 col6\" >100.011024</td>\n",
              "      <td id=\"T_d7187_row65_col7\" class=\"data row65 col7\" >185.095139</td>\n",
              "    </tr>\n",
              "    <tr>\n",
              "      <th id=\"T_d7187_level0_row66\" class=\"row_heading level0 row66\" >66</th>\n",
              "      <td id=\"T_d7187_row66_col0\" class=\"data row66 col0\" >100000.000000</td>\n",
              "      <td id=\"T_d7187_row66_col1\" class=\"data row66 col1\" >67.799553</td>\n",
              "      <td id=\"T_d7187_row66_col2\" class=\"data row66 col2\" >1.837996</td>\n",
              "      <td id=\"T_d7187_row66_col3\" class=\"data row66 col3\" >60.668892</td>\n",
              "      <td id=\"T_d7187_row66_col4\" class=\"data row66 col4\" >66.560656</td>\n",
              "      <td id=\"T_d7187_row66_col5\" class=\"data row66 col5\" >67.813583</td>\n",
              "      <td id=\"T_d7187_row66_col6\" class=\"data row66 col6\" >69.058746</td>\n",
              "      <td id=\"T_d7187_row66_col7\" class=\"data row66 col7\" >74.779884</td>\n",
              "    </tr>\n",
              "    <tr>\n",
              "      <th id=\"T_d7187_level0_row67\" class=\"row_heading level0 row67\" >67</th>\n",
              "      <td id=\"T_d7187_row67_col0\" class=\"data row67 col0\" >100000.000000</td>\n",
              "      <td id=\"T_d7187_row67_col1\" class=\"data row67 col1\" >23.029278</td>\n",
              "      <td id=\"T_d7187_row67_col2\" class=\"data row67 col2\" >55.470402</td>\n",
              "      <td id=\"T_d7187_row67_col3\" class=\"data row67 col3\" >-203.746384</td>\n",
              "      <td id=\"T_d7187_row67_col4\" class=\"data row67 col4\" >-14.144571</td>\n",
              "      <td id=\"T_d7187_row67_col5\" class=\"data row67 col5\" >23.441362</td>\n",
              "      <td id=\"T_d7187_row67_col6\" class=\"data row67 col6\" >59.941065</td>\n",
              "      <td id=\"T_d7187_row67_col7\" class=\"data row67 col7\" >266.493317</td>\n",
              "    </tr>\n",
              "    <tr>\n",
              "      <th id=\"T_d7187_level0_row68\" class=\"row_heading level0 row68\" >68</th>\n",
              "      <td id=\"T_d7187_row68_col0\" class=\"data row68 col0\" >100000.000000</td>\n",
              "      <td id=\"T_d7187_row68_col1\" class=\"data row68 col1\" >73.412071</td>\n",
              "      <td id=\"T_d7187_row68_col2\" class=\"data row68 col2\" >62.202408</td>\n",
              "      <td id=\"T_d7187_row68_col3\" class=\"data row68 col3\" >-181.973816</td>\n",
              "      <td id=\"T_d7187_row68_col4\" class=\"data row68 col4\" >31.685547</td>\n",
              "      <td id=\"T_d7187_row68_col5\" class=\"data row68 col5\" >72.880192</td>\n",
              "      <td id=\"T_d7187_row68_col6\" class=\"data row68 col6\" >114.469225</td>\n",
              "      <td id=\"T_d7187_row68_col7\" class=\"data row68 col7\" >319.867523</td>\n",
              "    </tr>\n",
              "    <tr>\n",
              "      <th id=\"T_d7187_level0_row69\" class=\"row_heading level0 row69\" >69</th>\n",
              "      <td id=\"T_d7187_row69_col0\" class=\"data row69 col0\" >100000.000000</td>\n",
              "      <td id=\"T_d7187_row69_col1\" class=\"data row69 col1\" >115.189728</td>\n",
              "      <td id=\"T_d7187_row69_col2\" class=\"data row69 col2\" >21.582062</td>\n",
              "      <td id=\"T_d7187_row69_col3\" class=\"data row69 col3\" >22.598862</td>\n",
              "      <td id=\"T_d7187_row69_col4\" class=\"data row69 col4\" >100.589325</td>\n",
              "      <td id=\"T_d7187_row69_col5\" class=\"data row69 col5\" >115.236633</td>\n",
              "      <td id=\"T_d7187_row69_col6\" class=\"data row69 col6\" >129.791080</td>\n",
              "      <td id=\"T_d7187_row69_col7\" class=\"data row69 col7\" >201.761261</td>\n",
              "    </tr>\n",
              "    <tr>\n",
              "      <th id=\"T_d7187_level0_row70\" class=\"row_heading level0 row70\" >70</th>\n",
              "      <td id=\"T_d7187_row70_col0\" class=\"data row70 col0\" >100000.000000</td>\n",
              "      <td id=\"T_d7187_row70_col1\" class=\"data row70 col1\" >-709.761536</td>\n",
              "      <td id=\"T_d7187_row70_col2\" class=\"data row70 col2\" >405.998566</td>\n",
              "      <td id=\"T_d7187_row70_col3\" class=\"data row70 col3\" >-1297.871948</td>\n",
              "      <td id=\"T_d7187_row70_col4\" class=\"data row70 col4\" >-1074.464844</td>\n",
              "      <td id=\"T_d7187_row70_col5\" class=\"data row70 col5\" >-808.801697</td>\n",
              "      <td id=\"T_d7187_row70_col6\" class=\"data row70 col6\" >-357.087334</td>\n",
              "      <td id=\"T_d7187_row70_col7\" class=\"data row70 col7\" >98.768234</td>\n",
              "    </tr>\n",
              "    <tr>\n",
              "      <th id=\"T_d7187_level0_row71\" class=\"row_heading level0 row71\" >71</th>\n",
              "      <td id=\"T_d7187_row71_col0\" class=\"data row71 col0\" >100000.000000</td>\n",
              "      <td id=\"T_d7187_row71_col1\" class=\"data row71 col1\" >-48.505699</td>\n",
              "      <td id=\"T_d7187_row71_col2\" class=\"data row71 col2\" >41.214661</td>\n",
              "      <td id=\"T_d7187_row71_col3\" class=\"data row71 col3\" >-209.935760</td>\n",
              "      <td id=\"T_d7187_row71_col4\" class=\"data row71 col4\" >-76.478592</td>\n",
              "      <td id=\"T_d7187_row71_col5\" class=\"data row71 col5\" >-48.700930</td>\n",
              "      <td id=\"T_d7187_row71_col6\" class=\"data row71 col6\" >-20.487869</td>\n",
              "      <td id=\"T_d7187_row71_col7\" class=\"data row71 col7\" >126.191788</td>\n",
              "    </tr>\n",
              "  </tbody>\n",
              "</table>\n"
            ],
            "text/plain": [
              "<pandas.io.formats.style.Styler at 0x23554cad710>"
            ]
          },
          "execution_count": 16,
          "metadata": {},
          "output_type": "execute_result"
        }
      ],
      "source": [
        "df_train.describe().T.style.background_gradient(subset=['std'], cmap='Blues')"
      ]
    },
    {
      "cell_type": "markdown",
      "metadata": {
        "id": "SN6yFIrH0QvA"
      },
      "source": [
        "Можно заметить, что некоторые признаки имеют большое стандартное отклонение, что можен влиять на качество обучения  \n",
        "Посмотрим также на корреляцию Пирсона и Спирмена"
      ]
    },
    {
      "cell_type": "code",
      "execution_count": 17,
      "metadata": {
        "colab": {
          "base_uri": "https://localhost:8080/",
          "height": 943
        },
        "id": "wewmmv9r68UH",
        "outputId": "a9b0369b-d4cf-4398-f913-2d72fb369389"
      },
      "outputs": [
        {
          "data": {
            "text/plain": [
              "Text(0.5, 1.0, 'Корреляция Пирсона')"
            ]
          },
          "execution_count": 17,
          "metadata": {},
          "output_type": "execute_result"
        },
        {
          "data": {
            "image/png": "[encoded data removed]",
            "text/plain": [
              "<Figure size 2000x2000 with 2 Axes>"
            ]
          },
          "metadata": {},
          "output_type": "display_data"
        }
      ],
      "source": [
        "_, ax = plt.subplots(figsize=(20, 20))\n",
        "sns.heatmap(df_train.drop('Target', axis=1).corr(), ax=ax).set_title('Корреляция Пирсона')"
      ]
    },
    {
      "cell_type": "code",
      "execution_count": 18,
      "metadata": {
        "colab": {
          "base_uri": "https://localhost:8080/",
          "height": 943
        },
        "id": "ntFIkbHo1nrQ",
        "outputId": "1c51c6b1-60ba-49bd-841a-a81c0510d745"
      },
      "outputs": [
        {
          "data": {
            "text/plain": [
              "Text(0.5, 1.0, 'Корреляция Спирмена')"
            ]
          },
          "execution_count": 18,
          "metadata": {},
          "output_type": "execute_result"
        },
        {
          "data": {
            "image/png": "[encoded data removed]",
            "text/plain": [
              "<Figure size 2000x2000 with 2 Axes>"
            ]
          },
          "metadata": {},
          "output_type": "display_data"
        }
      ],
      "source": [
        "_, ax = plt.subplots(figsize=(20, 20))\n",
        "sns.heatmap(df_train.drop('Target', axis=1).corr(method='spearman'), ax=ax).set_title('Корреляция Спирмена')"
      ]
    },
    {
      "cell_type": "markdown",
      "metadata": {
        "id": "yYrylnxm1zcj"
      },
      "source": [
        "Можно заметить, что линейных зависимостей между признаками нет"
      ]
    },
    {
      "cell_type": "markdown",
      "metadata": {
        "id": "hnOPOnWAo78p"
      },
      "source": [
        "# Baseline models"
      ]
    },
    {
      "cell_type": "markdown",
      "metadata": {
        "id": "TQaAk-f73Lo0"
      },
      "source": [
        "Из библиотеки Faise рассмотрим модели FlatL2, IVF, HNSW. Чтобы не очень долго не ждать вычислений, эксперименты будем проводить на выборке из 50000 экземпляров из датасета base"
      ]
    },
    {
      "cell_type": "code",
      "execution_count": 19,
      "metadata": {
        "id": "6TgsBlze4LS0"
      },
      "outputs": [],
      "source": [
        "df_samples = df_base[:50000]\n",
        "df_samples_np = np.ascontiguousarray(df_samples.values)\n",
        "\n",
        "df_base_np = np.ascontiguousarray(df_base.values)\n",
        "\n",
        "features_train = df_train.drop('Target', axis=1)\n",
        "target_train = df_train['Target']\n",
        "features_train_np = np.ascontiguousarray(features_train.values)\n",
        "\n",
        "features_valid = df_valid.copy()\n",
        "target_valid = df_valid_ans.copy()\n",
        "features_valid_np = np.ascontiguousarray(features_valid.values)"
      ]
    },
    {
      "cell_type": "code",
      "execution_count": 20,
      "metadata": {
        "id": "JNQvWTeX4_-o"
      },
      "outputs": [],
      "source": [
        "dims = df_base_np.shape[1]\n",
        "k_nearest = 5\n",
        "base_index = {k: v for k, v in enumerate(df_base.index.to_list())}\n",
        "gpu = [faiss.StandardGpuResources()]"
      ]
    },
    {
      "cell_type": "code",
      "execution_count": 21,
      "metadata": {
        "id": "Os3lJFx7_g8U"
      },
      "outputs": [],
      "source": [
        "def accuracy5(targets, predicted, base_index):\n",
        "  acc = 0\n",
        "  for target, el in zip(targets.tolist(), predicted.tolist()):\n",
        "    acc += int(target in [base_index[r] for r in el])\n",
        "  return acc / len(predicted)"
      ]
    },
    {
      "cell_type": "code",
      "execution_count": null,
      "metadata": {
        "id": "3-6-cTOt_g4o"
      },
      "outputs": [],
      "source": []
    },
    {
      "cell_type": "markdown",
      "metadata": {
        "id": "yNFIB6fZ3cHh"
      },
      "source": [
        "## Модель FlatL2 (полный перебор)"
      ]
    },
    {
      "cell_type": "code",
      "execution_count": 22,
      "metadata": {
        "id": "uH9mchY2o_Jg"
      },
      "outputs": [],
      "source": [
        "idx_flatL2 = faiss.IndexFlatL2(dims)\n",
        "idx_flatL2_gpu = faiss.index_cpu_to_gpu_multiple_py(gpu, idx_flatL2)\n",
        "idx_flatL2_gpu.add(df_base_np)"
      ]
    },
    {
      "cell_type": "code",
      "execution_count": 23,
      "metadata": {
        "colab": {
          "base_uri": "https://localhost:8080/"
        },
        "id": "DnCUvPhR9CCH",
        "outputId": "23ec6593-2485-4018-e4d6-9fa2b6d15d26"
      },
      "outputs": [
        {
          "name": "stdout",
          "output_type": "stream",
          "text": [
            "CPU times: total: 8.06 s\n",
            "Wall time: 11.5 s\n"
          ]
        }
      ],
      "source": [
        "%%time\n",
        "vecs, idx = idx_flatL2_gpu.search(features_train_np, k_nearest)"
      ]
    },
    {
      "cell_type": "code",
      "execution_count": 24,
      "metadata": {
        "colab": {
          "base_uri": "https://localhost:8080/"
        },
        "id": "iD16n1tHAlxD",
        "outputId": "2b312e1c-bd85-443f-8fb5-6d1ddb0910bb"
      },
      "outputs": [
        {
          "name": "stdout",
          "output_type": "stream",
          "text": [
            "Для модели FlatL2 accuracy@5 = 13.80%\n"
          ]
        }
      ],
      "source": [
        "accuracy_flatL2 = accuracy5(target_train.values, idx, base_index)\n",
        "print(f'Для модели FlatL2 accuracy@5 = {accuracy_flatL2:.2%}')"
      ]
    },
    {
      "cell_type": "code",
      "execution_count": null,
      "metadata": {
        "id": "JRZ4lSXj9gLp"
      },
      "outputs": [],
      "source": []
    },
    {
      "cell_type": "markdown",
      "metadata": {
        "id": "iJjDPN9SDZ9y"
      },
      "source": [
        "## Модель IVF"
      ]
    },
    {
      "cell_type": "code",
      "execution_count": 25,
      "metadata": {
        "id": "pkUXGvLxLJwc"
      },
      "outputs": [],
      "source": [
        "n_quantizer = 20 # Выбрано экспериментальным путем: баланс между скоростью и качеством\n",
        "quantizer = faiss.IndexFlatL2(dims)\n",
        "idx_ivf_l2 = faiss.IndexIVFFlat(quantizer, dims, n_quantizer)\n",
        "idx_ivf_l2_gpu = faiss.index_cpu_to_gpu_multiple_py(gpu, idx_ivf_l2)\n",
        "idx_ivf_l2_gpu.train(df_base_np)\n",
        "idx_ivf_l2_gpu.add(df_base_np)"
      ]
    },
    {
      "cell_type": "code",
      "execution_count": 26,
      "metadata": {
        "id": "_H5Vl1hhLJtF"
      },
      "outputs": [
        {
          "name": "stdout",
          "output_type": "stream",
          "text": [
            "CPU times: total: 14.4 s\n",
            "Wall time: 14.4 s\n"
          ]
        }
      ],
      "source": [
        "%%time\n",
        "idx_ivf_l2_gpu.nprobe = 1 # в какой количество кластеров заходить при поиске\n",
        "vecs, idx = idx_ivf_l2_gpu.search(features_train_np, k_nearest)"
      ]
    },
    {
      "cell_type": "code",
      "execution_count": 27,
      "metadata": {
        "id": "6_feodTsLJqS"
      },
      "outputs": [
        {
          "name": "stdout",
          "output_type": "stream",
          "text": [
            "Для модели IVF accuracy@5 = 11.26%\n"
          ]
        }
      ],
      "source": [
        "accuracy_ivf = accuracy5(target_train.values, idx, base_index)\n",
        "print(f'Для модели IVF accuracy@5 = {accuracy_ivf:.2%}')"
      ]
    },
    {
      "cell_type": "code",
      "execution_count": 28,
      "metadata": {
        "id": "aAXJenSMPSQu"
      },
      "outputs": [
        {
          "name": "stdout",
          "output_type": "stream",
          "text": [
            "CPU times: total: 2min 13s\n",
            "Wall time: 2min 13s\n"
          ]
        }
      ],
      "source": [
        "%%time\n",
        "idx_ivf_l2_gpu.nprobe = 10 # в какой количество кластеров заходить при поиске\n",
        "vecs, idx = idx_ivf_l2_gpu.search(features_train_np, k_nearest)"
      ]
    },
    {
      "cell_type": "code",
      "execution_count": 29,
      "metadata": {
        "colab": {
          "base_uri": "https://localhost:8080/"
        },
        "id": "fmyU2YAEPSNd",
        "outputId": "eb16586b-7246-4a8e-a1f4-edc33ce70853"
      },
      "outputs": [
        {
          "name": "stdout",
          "output_type": "stream",
          "text": [
            "Для модели IVF accuracy@5 = 13.80%\n"
          ]
        }
      ],
      "source": [
        "accuracy_ivf = accuracy5(target_train.values, idx, base_index)\n",
        "print(f'Для модели IVF accuracy@5 = {accuracy_ivf:.2%}')"
      ]
    },
    {
      "cell_type": "code",
      "execution_count": null,
      "metadata": {
        "id": "ODbgpfleQH98"
      },
      "outputs": [],
      "source": []
    },
    {
      "cell_type": "markdown",
      "metadata": {
        "id": "-nAQJU1sXA15"
      },
      "source": [
        "## Модель HNSW"
      ]
    },
    {
      "cell_type": "code",
      "execution_count": 30,
      "metadata": {
        "id": "X6xPXO9HXZ0A"
      },
      "outputs": [],
      "source": [
        "idx_hnsw = faiss.IndexHNSWFlat(dims, 128)\n",
        "idx_hnsw_gpu = faiss.index_cpu_to_gpu_multiple_py(gpu, idx_hnsw)\n",
        "idx_hnsw_gpu.add(df_base_np)"
      ]
    },
    {
      "cell_type": "code",
      "execution_count": 31,
      "metadata": {
        "id": "-dnyf68wYusp"
      },
      "outputs": [
        {
          "name": "stdout",
          "output_type": "stream",
          "text": [
            "CPU times: total: 30.6 s\n",
            "Wall time: 1.75 s\n"
          ]
        }
      ],
      "source": [
        "%%time\n",
        "vecs, idx = idx_hnsw_gpu.search(features_train_np, k_nearest)"
      ]
    },
    {
      "cell_type": "code",
      "execution_count": 32,
      "metadata": {},
      "outputs": [
        {
          "name": "stdout",
          "output_type": "stream",
          "text": [
            "Для модели HNSW accuracy@5 = 11.73%\n"
          ]
        }
      ],
      "source": [
        "accuracy_hnsw = accuracy5(target_train.values, idx, base_index)\n",
        "print(f'Для модели HNSW accuracy@5 = {accuracy_hnsw:.2%}')"
      ]
    },
    {
      "cell_type": "markdown",
      "metadata": {},
      "source": [
        "## Вывод\n",
        "Было проверено 3 модели: FlatL2, IVF, HNSW  \n",
        "Были получены следующие метрики:  \n",
        "* Для FlatL2 `accuracy@5 = 11.72%`  \n",
        "* Для IVF c 20 кластерами и поиском по 10 кластерам `accuracy@5 = 13.80%`  \n",
        "* Для HNSW `accuracy@5 = 11.72%`  \n",
        "  \n",
        "Модель HNSW уступает двум другим, поэтому дальше не будем ее использовать. Для модели FlatL2 и IVF удалось получить одинаковые метрики. Однако по непонятной причине поиск в модели IVF происходит дольше чем в FlatL2, хотя в теории IVF должен быть быстрее"
      ]
    },
    {
      "cell_type": "markdown",
      "metadata": {},
      "source": [
        "# Эксперименты/улучшение результатов"
      ]
    },
    {
      "cell_type": "markdown",
      "metadata": {},
      "source": [
        "## Предобработка данных"
      ]
    },
    {
      "cell_type": "markdown",
      "metadata": {},
      "source": [
        "### Устранение мультиколлениарности"
      ]
    },
    {
      "cell_type": "code",
      "execution_count": 33,
      "metadata": {},
      "outputs": [
        {
          "name": "stderr",
          "output_type": "stream",
          "text": [
            "c:\\Users\\hasanov\\AppData\\Local\\anaconda3\\envs\\faiss\\Lib\\site-packages\\numpy\\linalg\\linalg.py:1694: RuntimeWarning: overflow encountered in cast\n",
            "  s = s.astype(_realType(result_t), copy=False)\n"
          ]
        },
        {
          "data": {
            "text/html": [
              "<div>\n",
              "<style scoped>\n",
              "    .dataframe tbody tr th:only-of-type {\n",
              "        vertical-align: middle;\n",
              "    }\n",
              "\n",
              "    .dataframe tbody tr th {\n",
              "        vertical-align: top;\n",
              "    }\n",
              "\n",
              "    .dataframe thead th {\n",
              "        text-align: right;\n",
              "    }\n",
              "</style>\n",
              "<table border=\"1\" class=\"dataframe\">\n",
              "  <thead>\n",
              "    <tr style=\"text-align: right;\">\n",
              "      <th></th>\n",
              "      <th>feature</th>\n",
              "      <th>vif</th>\n",
              "    </tr>\n",
              "  </thead>\n",
              "  <tbody>\n",
              "    <tr>\n",
              "      <th>3</th>\n",
              "      <td>3</td>\n",
              "      <td>56.608867</td>\n",
              "    </tr>\n",
              "    <tr>\n",
              "      <th>0</th>\n",
              "      <td>0</td>\n",
              "      <td>13.383351</td>\n",
              "    </tr>\n",
              "    <tr>\n",
              "      <th>1</th>\n",
              "      <td>1</td>\n",
              "      <td>3.886742</td>\n",
              "    </tr>\n",
              "    <tr>\n",
              "      <th>2</th>\n",
              "      <td>2</td>\n",
              "      <td>2.406508</td>\n",
              "    </tr>\n",
              "    <tr>\n",
              "      <th>63</th>\n",
              "      <td>63</td>\n",
              "      <td>1.223082</td>\n",
              "    </tr>\n",
              "    <tr>\n",
              "      <th>...</th>\n",
              "      <td>...</td>\n",
              "      <td>...</td>\n",
              "    </tr>\n",
              "    <tr>\n",
              "      <th>8</th>\n",
              "      <td>8</td>\n",
              "      <td>1.003244</td>\n",
              "    </tr>\n",
              "    <tr>\n",
              "      <th>65</th>\n",
              "      <td>65</td>\n",
              "      <td>1.001878</td>\n",
              "    </tr>\n",
              "    <tr>\n",
              "      <th>59</th>\n",
              "      <td>59</td>\n",
              "      <td>0.999877</td>\n",
              "    </tr>\n",
              "    <tr>\n",
              "      <th>66</th>\n",
              "      <td>66</td>\n",
              "      <td>0.950510</td>\n",
              "    </tr>\n",
              "    <tr>\n",
              "      <th>19</th>\n",
              "      <td>19</td>\n",
              "      <td>0.257614</td>\n",
              "    </tr>\n",
              "  </tbody>\n",
              "</table>\n",
              "<p>72 rows × 2 columns</p>\n",
              "</div>"
            ],
            "text/plain": [
              "   feature        vif\n",
              "3        3  56.608867\n",
              "0        0  13.383351\n",
              "1        1   3.886742\n",
              "2        2   2.406508\n",
              "63      63   1.223082\n",
              "..     ...        ...\n",
              "8        8   1.003244\n",
              "65      65   1.001878\n",
              "59      59   0.999877\n",
              "66      66   0.950510\n",
              "19      19   0.257614\n",
              "\n",
              "[72 rows x 2 columns]"
            ]
          },
          "execution_count": 33,
          "metadata": {},
          "output_type": "execute_result"
        }
      ],
      "source": [
        "df_vif = pd.DataFrame()\n",
        "df_vif['feature'] = df_base.columns\n",
        "\n",
        "df_vif['vif'] = [variance_inflation_factor(df_base.values, i) for i in range(len(df_base.columns))]\n",
        "  \n",
        "df_vif.sort_values(by='vif', ascending=False)"
      ]
    },
    {
      "cell_type": "markdown",
      "metadata": {},
      "source": [
        "Сейчас в датасете нет мультиколлениарности"
      ]
    },
    {
      "cell_type": "markdown",
      "metadata": {},
      "source": [
        "## Отбор признаков"
      ]
    },
    {
      "cell_type": "markdown",
      "metadata": {},
      "source": [
        "Оставим в датасете только признаки, которые имеют нормальное распределение.  \n",
        "Из EDA видно, что признаки '6', '21', '25', '33', '44', '59','63', '65', '70' не распределены нормально. Удалим их"
      ]
    },
    {
      "cell_type": "code",
      "execution_count": 34,
      "metadata": {},
      "outputs": [],
      "source": [
        "df_base_norm = df_base.drop(['6', '21', '25', '33', '44', '59','63', '65', '70'], axis=1)\n",
        "df_train_norm = df_train.drop(['6', '21', '25', '33', '44', '59','63', '65', '70'], axis=1)"
      ]
    },
    {
      "cell_type": "code",
      "execution_count": 35,
      "metadata": {},
      "outputs": [],
      "source": [
        "df_base_norm_np = np.ascontiguousarray(df_base_norm.values)\n",
        "\n",
        "features_train = df_train_norm.drop('Target', axis=1)\n",
        "target_train = df_train_norm['Target']\n",
        "features_train_norm_np = np.ascontiguousarray(features_train.values)\n",
        "\n",
        "dims_norm = df_base_norm_np.shape[1]"
      ]
    },
    {
      "cell_type": "markdown",
      "metadata": {},
      "source": [
        "### Модель FlatL2 (полный перебор)"
      ]
    },
    {
      "cell_type": "code",
      "execution_count": 36,
      "metadata": {},
      "outputs": [],
      "source": [
        "idx_flatL2 = faiss.IndexFlatL2(dims_norm)\n",
        "idx_flatL2_gpu = faiss.index_cpu_to_gpu_multiple_py(gpu, idx_flatL2)\n",
        "idx_flatL2_gpu.add(df_base_norm_np)"
      ]
    },
    {
      "cell_type": "code",
      "execution_count": 37,
      "metadata": {},
      "outputs": [
        {
          "name": "stdout",
          "output_type": "stream",
          "text": [
            "CPU times: total: 7.56 s\n",
            "Wall time: 10.9 s\n"
          ]
        }
      ],
      "source": [
        "%%time\n",
        "vecs, idx = idx_flatL2_gpu.search(features_train_norm_np, k_nearest)"
      ]
    },
    {
      "cell_type": "code",
      "execution_count": 38,
      "metadata": {},
      "outputs": [
        {
          "name": "stdout",
          "output_type": "stream",
          "text": [
            "Для модели FlatL2 accuracy@5 = 69.62%\n"
          ]
        }
      ],
      "source": [
        "accuracy_flatL2 = accuracy5(target_train.values, idx, base_index)\n",
        "print(f'Для модели FlatL2 accuracy@5 = {accuracy_flatL2:.2%}')"
      ]
    },
    {
      "cell_type": "markdown",
      "metadata": {},
      "source": [
        "### Модель IVF"
      ]
    },
    {
      "cell_type": "code",
      "execution_count": 39,
      "metadata": {},
      "outputs": [],
      "source": [
        "n_quantizer = 20 # Выбрано экспериментальным путем: баланс между скоростью и качеством\n",
        "quantizer = faiss.IndexFlatL2(dims_norm)\n",
        "idx_ivf_l2 = faiss.IndexIVFFlat(quantizer, dims_norm, n_quantizer)\n",
        "idx_ivf_l2_gpu = faiss.index_cpu_to_gpu_multiple_py(gpu, idx_ivf_l2)\n",
        "idx_ivf_l2_gpu.train(df_base_norm_np)\n",
        "idx_ivf_l2_gpu.add(df_base_norm_np)"
      ]
    },
    {
      "cell_type": "code",
      "execution_count": 40,
      "metadata": {},
      "outputs": [
        {
          "name": "stdout",
          "output_type": "stream",
          "text": [
            "CPU times: total: 1min 54s\n",
            "Wall time: 1min 54s\n"
          ]
        }
      ],
      "source": [
        "%%time\n",
        "idx_ivf_l2_gpu.nprobe = 10 # в какой количество кластеров заходить при поиске\n",
        "vecs, idx = idx_ivf_l2_gpu.search(features_train_norm_np, k_nearest)"
      ]
    },
    {
      "cell_type": "code",
      "execution_count": 41,
      "metadata": {},
      "outputs": [
        {
          "name": "stdout",
          "output_type": "stream",
          "text": [
            "Для модели IVF accuracy@5 = 69.53%\n"
          ]
        }
      ],
      "source": [
        "accuracy_ivf = accuracy5(target_train.values, idx, base_index)\n",
        "print(f'Для модели IVF accuracy@5 = {accuracy_ivf:.2%}')"
      ]
    },
    {
      "cell_type": "markdown",
      "metadata": {},
      "source": [
        "После удаления не нормально распределенных признаков метрика выросла:\n",
        "* До `accuracy@5 = 69.62%` для Flat2L  \n",
        "* До `accuracy@5 = 69.53%` для IVF  \n",
        "  \n",
        "Оставляем данное изменение.\n",
        "Проверим на мультиколлениарность текущие признаки"
      ]
    },
    {
      "cell_type": "code",
      "execution_count": 42,
      "metadata": {},
      "outputs": [],
      "source": [
        "df_vif_norm = pd.DataFrame()\n",
        "df_vif_norm['feature'] = df_base_norm.columns\n",
        "\n",
        "df_vif_norm['vif'] = [variance_inflation_factor(df_base_norm.values, i) for i in range(len(df_base_norm.columns))]"
      ]
    },
    {
      "cell_type": "code",
      "execution_count": 43,
      "metadata": {},
      "outputs": [
        {
          "data": {
            "text/html": [
              "<div>\n",
              "<style scoped>\n",
              "    .dataframe tbody tr th:only-of-type {\n",
              "        vertical-align: middle;\n",
              "    }\n",
              "\n",
              "    .dataframe tbody tr th {\n",
              "        vertical-align: top;\n",
              "    }\n",
              "\n",
              "    .dataframe thead th {\n",
              "        text-align: right;\n",
              "    }\n",
              "</style>\n",
              "<table border=\"1\" class=\"dataframe\">\n",
              "  <thead>\n",
              "    <tr style=\"text-align: right;\">\n",
              "      <th></th>\n",
              "      <th>feature</th>\n",
              "      <th>vif</th>\n",
              "    </tr>\n",
              "  </thead>\n",
              "  <tbody>\n",
              "    <tr>\n",
              "      <th>18</th>\n",
              "      <td>19</td>\n",
              "      <td>2762.389251</td>\n",
              "    </tr>\n",
              "    <tr>\n",
              "      <th>58</th>\n",
              "      <td>66</td>\n",
              "      <td>1312.926609</td>\n",
              "    </tr>\n",
              "    <tr>\n",
              "      <th>7</th>\n",
              "      <td>8</td>\n",
              "      <td>378.992560</td>\n",
              "    </tr>\n",
              "    <tr>\n",
              "      <th>49</th>\n",
              "      <td>54</td>\n",
              "      <td>346.062707</td>\n",
              "    </tr>\n",
              "    <tr>\n",
              "      <th>51</th>\n",
              "      <td>56</td>\n",
              "      <td>297.745815</td>\n",
              "    </tr>\n",
              "  </tbody>\n",
              "</table>\n",
              "</div>"
            ],
            "text/plain": [
              "   feature          vif\n",
              "18      19  2762.389251\n",
              "58      66  1312.926609\n",
              "7        8   378.992560\n",
              "49      54   346.062707\n",
              "51      56   297.745815"
            ]
          },
          "execution_count": 43,
          "metadata": {},
          "output_type": "execute_result"
        }
      ],
      "source": [
        "df_vif_norm.sort_values(by='vif', ascending=False).head()"
      ]
    },
    {
      "cell_type": "markdown",
      "metadata": {},
      "source": [
        "После удаления части признаков появилась мультиколлениарность. Удалим все признаки, у которых vif >= 10"
      ]
    },
    {
      "cell_type": "code",
      "execution_count": 44,
      "metadata": {},
      "outputs": [],
      "source": [
        "drop_features = df_vif_norm.query('vif >= 10')['feature']"
      ]
    },
    {
      "cell_type": "code",
      "execution_count": 45,
      "metadata": {},
      "outputs": [],
      "source": [
        "df_base_norm_vif = df_base_norm.drop(drop_features.values, axis=1)\n",
        "df_train_norm_vif = df_train_norm.drop(drop_features.values, axis=1)"
      ]
    },
    {
      "cell_type": "code",
      "execution_count": 46,
      "metadata": {},
      "outputs": [],
      "source": [
        "df_base_norm_vif_np = np.ascontiguousarray(df_base_norm_vif.values)\n",
        "\n",
        "features_train = df_train_norm_vif.drop('Target', axis=1)\n",
        "target_train = df_train_norm['Target']\n",
        "features_train_norm_vif_np = np.ascontiguousarray(features_train.values)\n",
        "\n",
        "dims_norm_vif = df_base_norm_vif_np.shape[1]"
      ]
    },
    {
      "cell_type": "markdown",
      "metadata": {},
      "source": [
        "### Модель FlatL2 (полный перебор)"
      ]
    },
    {
      "cell_type": "code",
      "execution_count": 47,
      "metadata": {},
      "outputs": [],
      "source": [
        "idx_flatL2 = faiss.IndexFlatL2(dims_norm_vif)\n",
        "idx_flatL2_gpu = faiss.index_cpu_to_gpu_multiple_py(gpu, idx_flatL2)\n",
        "idx_flatL2_gpu.add(df_base_norm_vif_np)"
      ]
    },
    {
      "cell_type": "code",
      "execution_count": 48,
      "metadata": {},
      "outputs": [
        {
          "name": "stdout",
          "output_type": "stream",
          "text": [
            "CPU times: total: 7.25 s\n",
            "Wall time: 10.4 s\n"
          ]
        }
      ],
      "source": [
        "%%time\n",
        "vecs, idx = idx_flatL2_gpu.search(features_train_norm_vif_np, k_nearest)"
      ]
    },
    {
      "cell_type": "code",
      "execution_count": 49,
      "metadata": {},
      "outputs": [
        {
          "name": "stdout",
          "output_type": "stream",
          "text": [
            "Для модели FlatL2 accuracy@5 = 68.66%\n"
          ]
        }
      ],
      "source": [
        "accuracy_flatL2 = accuracy5(target_train.values, idx, base_index)\n",
        "print(f'Для модели FlatL2 accuracy@5 = {accuracy_flatL2:.2%}')"
      ]
    },
    {
      "cell_type": "markdown",
      "metadata": {},
      "source": [
        "### Модель IVF"
      ]
    },
    {
      "cell_type": "code",
      "execution_count": 50,
      "metadata": {},
      "outputs": [],
      "source": [
        "n_quantizer = 20 # Выбрано экспериментальным путем: баланс между скоростью и качеством\n",
        "quantizer = faiss.IndexFlatL2(dims_norm_vif)\n",
        "idx_ivf_l2 = faiss.IndexIVFFlat(quantizer, dims_norm_vif, n_quantizer)\n",
        "idx_ivf_l2_gpu = faiss.index_cpu_to_gpu_multiple_py(gpu, idx_ivf_l2)\n",
        "idx_ivf_l2_gpu.train(df_base_norm_vif_np)\n",
        "idx_ivf_l2_gpu.add(df_base_norm_vif_np)"
      ]
    },
    {
      "cell_type": "code",
      "execution_count": 51,
      "metadata": {},
      "outputs": [
        {
          "name": "stdout",
          "output_type": "stream",
          "text": [
            "CPU times: total: 1min 13s\n",
            "Wall time: 1min 13s\n"
          ]
        }
      ],
      "source": [
        "%%time\n",
        "idx_ivf_l2_gpu.nprobe = 10 # в какой количество кластеров заходить при поиске\n",
        "vecs, idx = idx_ivf_l2_gpu.search(features_train_norm_vif_np, k_nearest)"
      ]
    },
    {
      "cell_type": "code",
      "execution_count": 52,
      "metadata": {},
      "outputs": [
        {
          "name": "stdout",
          "output_type": "stream",
          "text": [
            "Для модели IVF accuracy@5 = 68.62%\n"
          ]
        }
      ],
      "source": [
        "accuracy_ivf = accuracy5(target_train.values, idx, base_index)\n",
        "print(f'Для модели IVF accuracy@5 = {accuracy_ivf:.2%}')"
      ]
    },
    {
      "cell_type": "markdown",
      "metadata": {},
      "source": [
        "Качество обеих моделей упали:\n",
        "* До `accuracy@5 = 68.66%` для Flat2L  \n",
        "* До `accuracy@5 = 68.62%` для IVF  \n",
        "\n",
        "Следовательно, устранение мультиколлениарности ухудшает качество модели. Не будем использовать данное преобразование"
      ]
    },
    {
      "cell_type": "markdown",
      "metadata": {
        "id": "5vAArzPUqlZ8"
      },
      "source": [
        "## Нормализация данных"
      ]
    },
    {
      "cell_type": "markdown",
      "metadata": {},
      "source": [
        "### RobustScaler"
      ]
    },
    {
      "cell_type": "code",
      "execution_count": 53,
      "metadata": {
        "id": "eYONYV2Sq600"
      },
      "outputs": [
        {
          "name": "stderr",
          "output_type": "stream",
          "text": [
            "c:\\Users\\hasanov\\AppData\\Local\\anaconda3\\envs\\faiss\\Lib\\site-packages\\sklearn\\utils\\validation.py:767: FutureWarning: is_sparse is deprecated and will be removed in a future version. Check `isinstance(dtype, pd.SparseDtype)` instead.\n",
            "  if not hasattr(array, \"sparse\") and array.dtypes.apply(is_sparse).any():\n",
            "c:\\Users\\hasanov\\AppData\\Local\\anaconda3\\envs\\faiss\\Lib\\site-packages\\sklearn\\utils\\validation.py:605: FutureWarning: is_sparse is deprecated and will be removed in a future version. Check `isinstance(dtype, pd.SparseDtype)` instead.\n",
            "  if is_sparse(pd_dtype):\n",
            "c:\\Users\\hasanov\\AppData\\Local\\anaconda3\\envs\\faiss\\Lib\\site-packages\\sklearn\\utils\\validation.py:614: FutureWarning: is_sparse is deprecated and will be removed in a future version. Check `isinstance(dtype, pd.SparseDtype)` instead.\n",
            "  if is_sparse(pd_dtype) or not is_extension_array_dtype(pd_dtype):\n",
            "c:\\Users\\hasanov\\AppData\\Local\\anaconda3\\envs\\faiss\\Lib\\site-packages\\sklearn\\utils\\validation.py:767: FutureWarning: is_sparse is deprecated and will be removed in a future version. Check `isinstance(dtype, pd.SparseDtype)` instead.\n",
            "  if not hasattr(array, \"sparse\") and array.dtypes.apply(is_sparse).any():\n",
            "c:\\Users\\hasanov\\AppData\\Local\\anaconda3\\envs\\faiss\\Lib\\site-packages\\sklearn\\utils\\validation.py:605: FutureWarning: is_sparse is deprecated and will be removed in a future version. Check `isinstance(dtype, pd.SparseDtype)` instead.\n",
            "  if is_sparse(pd_dtype):\n",
            "c:\\Users\\hasanov\\AppData\\Local\\anaconda3\\envs\\faiss\\Lib\\site-packages\\sklearn\\utils\\validation.py:614: FutureWarning: is_sparse is deprecated and will be removed in a future version. Check `isinstance(dtype, pd.SparseDtype)` instead.\n",
            "  if is_sparse(pd_dtype) or not is_extension_array_dtype(pd_dtype):\n",
            "c:\\Users\\hasanov\\AppData\\Local\\anaconda3\\envs\\faiss\\Lib\\site-packages\\sklearn\\utils\\validation.py:767: FutureWarning: is_sparse is deprecated and will be removed in a future version. Check `isinstance(dtype, pd.SparseDtype)` instead.\n",
            "  if not hasattr(array, \"sparse\") and array.dtypes.apply(is_sparse).any():\n",
            "c:\\Users\\hasanov\\AppData\\Local\\anaconda3\\envs\\faiss\\Lib\\site-packages\\sklearn\\utils\\validation.py:605: FutureWarning: is_sparse is deprecated and will be removed in a future version. Check `isinstance(dtype, pd.SparseDtype)` instead.\n",
            "  if is_sparse(pd_dtype):\n",
            "c:\\Users\\hasanov\\AppData\\Local\\anaconda3\\envs\\faiss\\Lib\\site-packages\\sklearn\\utils\\validation.py:614: FutureWarning: is_sparse is deprecated and will be removed in a future version. Check `isinstance(dtype, pd.SparseDtype)` instead.\n",
            "  if is_sparse(pd_dtype) or not is_extension_array_dtype(pd_dtype):\n"
          ]
        }
      ],
      "source": [
        "features_train = df_train_norm.drop('Target', axis=1)\n",
        "target_train = df_train_norm['Target']\n",
        "\n",
        "scaler = RobustScaler()\n",
        "df_base_robust = scaler.fit_transform(df_base_norm)\n",
        "features_train_robust = scaler.transform(features_train)\n",
        "\n",
        "df_base_robust_np = np.ascontiguousarray(df_base_robust)\n",
        "features_train_robust_np = np.ascontiguousarray(features_train_robust)\n",
        "\n",
        "dims_norm = df_base_norm.shape[1]"
      ]
    },
    {
      "cell_type": "markdown",
      "metadata": {},
      "source": [
        "#### Модель FlatL2 (полный перебор)"
      ]
    },
    {
      "cell_type": "code",
      "execution_count": 54,
      "metadata": {},
      "outputs": [],
      "source": [
        "idx_flatL2 = faiss.IndexFlatL2(dims_norm)\n",
        "idx_flatL2_gpu = faiss.index_cpu_to_gpu_multiple_py(gpu, idx_flatL2)\n",
        "idx_flatL2_gpu.add(df_base_robust_np)"
      ]
    },
    {
      "cell_type": "code",
      "execution_count": 55,
      "metadata": {},
      "outputs": [
        {
          "name": "stdout",
          "output_type": "stream",
          "text": [
            "CPU times: total: 7.64 s\n",
            "Wall time: 11 s\n"
          ]
        }
      ],
      "source": [
        "%%time\n",
        "vecs, idx = idx_flatL2_gpu.search(features_train_robust_np, k_nearest)"
      ]
    },
    {
      "cell_type": "code",
      "execution_count": 56,
      "metadata": {},
      "outputs": [
        {
          "name": "stdout",
          "output_type": "stream",
          "text": [
            "Для модели FlatL2 accuracy@5 = 71.05%\n"
          ]
        }
      ],
      "source": [
        "accuracy_flatL2 = accuracy5(target_train.values, idx, base_index)\n",
        "print(f'Для модели FlatL2 accuracy@5 = {accuracy_flatL2:.2%}')"
      ]
    },
    {
      "cell_type": "markdown",
      "metadata": {},
      "source": [
        "#### Модель IVF"
      ]
    },
    {
      "cell_type": "code",
      "execution_count": 57,
      "metadata": {},
      "outputs": [],
      "source": [
        "n_quantizer = 20 # Выбрано экспериментальным путем: баланс между скоростью и качеством\n",
        "quantizer = faiss.IndexFlatL2(dims_norm)\n",
        "idx_ivf_l2 = faiss.IndexIVFFlat(quantizer, dims_norm, n_quantizer)\n",
        "idx_ivf_l2_gpu = faiss.index_cpu_to_gpu_multiple_py(gpu, idx_ivf_l2)\n",
        "idx_ivf_l2_gpu.train(df_base_robust_np)\n",
        "idx_ivf_l2_gpu.add(df_base_robust_np)"
      ]
    },
    {
      "cell_type": "code",
      "execution_count": 58,
      "metadata": {},
      "outputs": [
        {
          "name": "stdout",
          "output_type": "stream",
          "text": [
            "CPU times: total: 2min 4s\n",
            "Wall time: 2min 4s\n"
          ]
        }
      ],
      "source": [
        "%%time\n",
        "idx_ivf_l2_gpu.nprobe = 10 # в какой количество кластеров заходить при поиске\n",
        "vecs, idx = idx_ivf_l2_gpu.search(features_train_robust_np, k_nearest)"
      ]
    },
    {
      "cell_type": "code",
      "execution_count": 59,
      "metadata": {},
      "outputs": [
        {
          "name": "stdout",
          "output_type": "stream",
          "text": [
            "Для модели IVF accuracy@5 = 70.91%\n"
          ]
        }
      ],
      "source": [
        "accuracy_ivf = accuracy5(target_train.values, idx, base_index)\n",
        "print(f'Для модели IVF accuracy@5 = {accuracy_ivf:.2%}')"
      ]
    },
    {
      "cell_type": "markdown",
      "metadata": {
        "colab": {
          "base_uri": "https://localhost:8080/"
        },
        "id": "LJyWQ04urDE8",
        "outputId": "981617f3-98f0-4527-e870-898a248845f3"
      },
      "source": [
        "После после добавления RobustScaler метрика выросла:\n",
        "* До `accuracy@5 = 71.05%` для Flat2L  \n",
        "* До `accuracy@5 = 70.91%` для IVF  \n",
        "  \n",
        "Оставляем данное изменение.\n",
        "В ходе всех экспериментов модель IVF показывала результаты хуже, чем модель Flat2L. Поэтому все дальнейшие эксперименты будем проводить на модели Flat2L"
      ]
    },
    {
      "cell_type": "markdown",
      "metadata": {},
      "source": [
        "### StandardScaler"
      ]
    },
    {
      "cell_type": "code",
      "execution_count": 62,
      "metadata": {},
      "outputs": [
        {
          "name": "stderr",
          "output_type": "stream",
          "text": [
            "c:\\Users\\hasanov\\AppData\\Local\\anaconda3\\envs\\faiss\\Lib\\site-packages\\sklearn\\utils\\validation.py:767: FutureWarning: is_sparse is deprecated and will be removed in a future version. Check `isinstance(dtype, pd.SparseDtype)` instead.\n",
            "  if not hasattr(array, \"sparse\") and array.dtypes.apply(is_sparse).any():\n",
            "c:\\Users\\hasanov\\AppData\\Local\\anaconda3\\envs\\faiss\\Lib\\site-packages\\sklearn\\utils\\validation.py:605: FutureWarning: is_sparse is deprecated and will be removed in a future version. Check `isinstance(dtype, pd.SparseDtype)` instead.\n",
            "  if is_sparse(pd_dtype):\n",
            "c:\\Users\\hasanov\\AppData\\Local\\anaconda3\\envs\\faiss\\Lib\\site-packages\\sklearn\\utils\\validation.py:614: FutureWarning: is_sparse is deprecated and will be removed in a future version. Check `isinstance(dtype, pd.SparseDtype)` instead.\n",
            "  if is_sparse(pd_dtype) or not is_extension_array_dtype(pd_dtype):\n",
            "c:\\Users\\hasanov\\AppData\\Local\\anaconda3\\envs\\faiss\\Lib\\site-packages\\sklearn\\utils\\validation.py:767: FutureWarning: is_sparse is deprecated and will be removed in a future version. Check `isinstance(dtype, pd.SparseDtype)` instead.\n",
            "  if not hasattr(array, \"sparse\") and array.dtypes.apply(is_sparse).any():\n",
            "c:\\Users\\hasanov\\AppData\\Local\\anaconda3\\envs\\faiss\\Lib\\site-packages\\sklearn\\utils\\validation.py:605: FutureWarning: is_sparse is deprecated and will be removed in a future version. Check `isinstance(dtype, pd.SparseDtype)` instead.\n",
            "  if is_sparse(pd_dtype):\n",
            "c:\\Users\\hasanov\\AppData\\Local\\anaconda3\\envs\\faiss\\Lib\\site-packages\\sklearn\\utils\\validation.py:614: FutureWarning: is_sparse is deprecated and will be removed in a future version. Check `isinstance(dtype, pd.SparseDtype)` instead.\n",
            "  if is_sparse(pd_dtype) or not is_extension_array_dtype(pd_dtype):\n",
            "c:\\Users\\hasanov\\AppData\\Local\\anaconda3\\envs\\faiss\\Lib\\site-packages\\sklearn\\utils\\validation.py:767: FutureWarning: is_sparse is deprecated and will be removed in a future version. Check `isinstance(dtype, pd.SparseDtype)` instead.\n",
            "  if not hasattr(array, \"sparse\") and array.dtypes.apply(is_sparse).any():\n",
            "c:\\Users\\hasanov\\AppData\\Local\\anaconda3\\envs\\faiss\\Lib\\site-packages\\sklearn\\utils\\validation.py:605: FutureWarning: is_sparse is deprecated and will be removed in a future version. Check `isinstance(dtype, pd.SparseDtype)` instead.\n",
            "  if is_sparse(pd_dtype):\n",
            "c:\\Users\\hasanov\\AppData\\Local\\anaconda3\\envs\\faiss\\Lib\\site-packages\\sklearn\\utils\\validation.py:614: FutureWarning: is_sparse is deprecated and will be removed in a future version. Check `isinstance(dtype, pd.SparseDtype)` instead.\n",
            "  if is_sparse(pd_dtype) or not is_extension_array_dtype(pd_dtype):\n"
          ]
        }
      ],
      "source": [
        "features_train = df_train_norm.drop('Target', axis=1)\n",
        "target_train = df_train_norm['Target']\n",
        "\n",
        "scaler = StandardScaler()\n",
        "df_base_standart = scaler.fit_transform(df_base_norm)\n",
        "features_train_standart = scaler.transform(features_train)\n",
        "\n",
        "df_base_standart_np = np.ascontiguousarray(df_base_standart)\n",
        "features_train_standart_np = np.ascontiguousarray(features_train_standart)\n",
        "\n",
        "dims_norm = df_base_norm.shape[1]"
      ]
    },
    {
      "cell_type": "markdown",
      "metadata": {},
      "source": [
        "#### Модель FlatL2 (полный перебор)"
      ]
    },
    {
      "cell_type": "code",
      "execution_count": 63,
      "metadata": {},
      "outputs": [],
      "source": [
        "idx_flatL2 = faiss.IndexFlatL2(dims_norm)\n",
        "idx_flatL2_gpu = faiss.index_cpu_to_gpu_multiple_py(gpu, idx_flatL2)\n",
        "idx_flatL2_gpu.add(df_base_standart_np)"
      ]
    },
    {
      "cell_type": "code",
      "execution_count": 64,
      "metadata": {},
      "outputs": [
        {
          "name": "stdout",
          "output_type": "stream",
          "text": [
            "CPU times: total: 7.56 s\n",
            "Wall time: 10.8 s\n"
          ]
        }
      ],
      "source": [
        "%%time\n",
        "vecs, idx = idx_flatL2_gpu.search(features_train_standart_np, k_nearest)"
      ]
    },
    {
      "cell_type": "code",
      "execution_count": 65,
      "metadata": {},
      "outputs": [
        {
          "name": "stdout",
          "output_type": "stream",
          "text": [
            "Для модели FlatL2 accuracy@5 = 71.05%\n"
          ]
        }
      ],
      "source": [
        "accuracy_flatL2 = accuracy5(target_train.values, idx, base_index)\n",
        "print(f'Для модели FlatL2 accuracy@5 = {accuracy_flatL2:.2%}')"
      ]
    },
    {
      "cell_type": "markdown",
      "metadata": {},
      "source": [
        "StandardScaler показывает такие же результаты, как и RobustScaler"
      ]
    },
    {
      "cell_type": "markdown",
      "metadata": {},
      "source": [
        "### MinMaxScaler"
      ]
    },
    {
      "cell_type": "code",
      "execution_count": 66,
      "metadata": {},
      "outputs": [
        {
          "name": "stderr",
          "output_type": "stream",
          "text": [
            "c:\\Users\\hasanov\\AppData\\Local\\anaconda3\\envs\\faiss\\Lib\\site-packages\\sklearn\\utils\\validation.py:767: FutureWarning: is_sparse is deprecated and will be removed in a future version. Check `isinstance(dtype, pd.SparseDtype)` instead.\n",
            "  if not hasattr(array, \"sparse\") and array.dtypes.apply(is_sparse).any():\n",
            "c:\\Users\\hasanov\\AppData\\Local\\anaconda3\\envs\\faiss\\Lib\\site-packages\\sklearn\\utils\\validation.py:605: FutureWarning: is_sparse is deprecated and will be removed in a future version. Check `isinstance(dtype, pd.SparseDtype)` instead.\n",
            "  if is_sparse(pd_dtype):\n",
            "c:\\Users\\hasanov\\AppData\\Local\\anaconda3\\envs\\faiss\\Lib\\site-packages\\sklearn\\utils\\validation.py:614: FutureWarning: is_sparse is deprecated and will be removed in a future version. Check `isinstance(dtype, pd.SparseDtype)` instead.\n",
            "  if is_sparse(pd_dtype) or not is_extension_array_dtype(pd_dtype):\n",
            "c:\\Users\\hasanov\\AppData\\Local\\anaconda3\\envs\\faiss\\Lib\\site-packages\\sklearn\\utils\\validation.py:767: FutureWarning: is_sparse is deprecated and will be removed in a future version. Check `isinstance(dtype, pd.SparseDtype)` instead.\n",
            "  if not hasattr(array, \"sparse\") and array.dtypes.apply(is_sparse).any():\n",
            "c:\\Users\\hasanov\\AppData\\Local\\anaconda3\\envs\\faiss\\Lib\\site-packages\\sklearn\\utils\\validation.py:605: FutureWarning: is_sparse is deprecated and will be removed in a future version. Check `isinstance(dtype, pd.SparseDtype)` instead.\n",
            "  if is_sparse(pd_dtype):\n",
            "c:\\Users\\hasanov\\AppData\\Local\\anaconda3\\envs\\faiss\\Lib\\site-packages\\sklearn\\utils\\validation.py:614: FutureWarning: is_sparse is deprecated and will be removed in a future version. Check `isinstance(dtype, pd.SparseDtype)` instead.\n",
            "  if is_sparse(pd_dtype) or not is_extension_array_dtype(pd_dtype):\n",
            "c:\\Users\\hasanov\\AppData\\Local\\anaconda3\\envs\\faiss\\Lib\\site-packages\\sklearn\\utils\\validation.py:767: FutureWarning: is_sparse is deprecated and will be removed in a future version. Check `isinstance(dtype, pd.SparseDtype)` instead.\n",
            "  if not hasattr(array, \"sparse\") and array.dtypes.apply(is_sparse).any():\n",
            "c:\\Users\\hasanov\\AppData\\Local\\anaconda3\\envs\\faiss\\Lib\\site-packages\\sklearn\\utils\\validation.py:605: FutureWarning: is_sparse is deprecated and will be removed in a future version. Check `isinstance(dtype, pd.SparseDtype)` instead.\n",
            "  if is_sparse(pd_dtype):\n",
            "c:\\Users\\hasanov\\AppData\\Local\\anaconda3\\envs\\faiss\\Lib\\site-packages\\sklearn\\utils\\validation.py:614: FutureWarning: is_sparse is deprecated and will be removed in a future version. Check `isinstance(dtype, pd.SparseDtype)` instead.\n",
            "  if is_sparse(pd_dtype) or not is_extension_array_dtype(pd_dtype):\n"
          ]
        }
      ],
      "source": [
        "features_train = df_train_norm.drop('Target', axis=1)\n",
        "target_train = df_train_norm['Target']\n",
        "\n",
        "scaler = MinMaxScaler()\n",
        "df_base_minmax = scaler.fit_transform(df_base_norm)\n",
        "features_train_minmax = scaler.transform(features_train)\n",
        "\n",
        "df_base_minmax_np = np.ascontiguousarray(df_base_minmax)\n",
        "features_train_minmax_np = np.ascontiguousarray(features_train_minmax)\n",
        "\n",
        "dims_norm = df_base_norm.shape[1]"
      ]
    },
    {
      "cell_type": "markdown",
      "metadata": {},
      "source": [
        "#### Модель FlatL2 (полный перебор)"
      ]
    },
    {
      "cell_type": "code",
      "execution_count": 67,
      "metadata": {},
      "outputs": [],
      "source": [
        "idx_flatL2 = faiss.IndexFlatL2(dims_norm)\n",
        "idx_flatL2_gpu = faiss.index_cpu_to_gpu_multiple_py(gpu, idx_flatL2)\n",
        "idx_flatL2_gpu.add(df_base_minmax_np)"
      ]
    },
    {
      "cell_type": "code",
      "execution_count": 68,
      "metadata": {},
      "outputs": [
        {
          "name": "stdout",
          "output_type": "stream",
          "text": [
            "CPU times: total: 7.56 s\n",
            "Wall time: 10.8 s\n"
          ]
        }
      ],
      "source": [
        "%%time\n",
        "vecs, idx = idx_flatL2_gpu.search(features_train_minmax_np, k_nearest)"
      ]
    },
    {
      "cell_type": "code",
      "execution_count": 69,
      "metadata": {},
      "outputs": [
        {
          "name": "stdout",
          "output_type": "stream",
          "text": [
            "Для модели FlatL2 accuracy@5 = 71.02%\n"
          ]
        }
      ],
      "source": [
        "accuracy_flatL2 = accuracy5(target_train.values, idx, base_index)\n",
        "print(f'Для модели FlatL2 accuracy@5 = {accuracy_flatL2:.2%}')"
      ]
    },
    {
      "cell_type": "markdown",
      "metadata": {},
      "source": [
        "При использование MinMaxScaler метрика упала - `accuracy@5 = 71.02%`  \n",
        "В итоговой предобработке данных будем использовать RobustScaler"
      ]
    },
    {
      "cell_type": "markdown",
      "metadata": {},
      "source": [
        "## Использование разных метрик расстояния"
      ]
    },
    {
      "cell_type": "markdown",
      "metadata": {},
      "source": [
        "Во всех моделях до этого использовалось Евклидово расстояние. Попробуем другие метрики расстояния"
      ]
    },
    {
      "cell_type": "code",
      "execution_count": 70,
      "metadata": {},
      "outputs": [
        {
          "name": "stderr",
          "output_type": "stream",
          "text": [
            "c:\\Users\\hasanov\\AppData\\Local\\anaconda3\\envs\\faiss\\Lib\\site-packages\\sklearn\\utils\\validation.py:767: FutureWarning: is_sparse is deprecated and will be removed in a future version. Check `isinstance(dtype, pd.SparseDtype)` instead.\n",
            "  if not hasattr(array, \"sparse\") and array.dtypes.apply(is_sparse).any():\n",
            "c:\\Users\\hasanov\\AppData\\Local\\anaconda3\\envs\\faiss\\Lib\\site-packages\\sklearn\\utils\\validation.py:605: FutureWarning: is_sparse is deprecated and will be removed in a future version. Check `isinstance(dtype, pd.SparseDtype)` instead.\n",
            "  if is_sparse(pd_dtype):\n",
            "c:\\Users\\hasanov\\AppData\\Local\\anaconda3\\envs\\faiss\\Lib\\site-packages\\sklearn\\utils\\validation.py:614: FutureWarning: is_sparse is deprecated and will be removed in a future version. Check `isinstance(dtype, pd.SparseDtype)` instead.\n",
            "  if is_sparse(pd_dtype) or not is_extension_array_dtype(pd_dtype):\n",
            "c:\\Users\\hasanov\\AppData\\Local\\anaconda3\\envs\\faiss\\Lib\\site-packages\\sklearn\\utils\\validation.py:767: FutureWarning: is_sparse is deprecated and will be removed in a future version. Check `isinstance(dtype, pd.SparseDtype)` instead.\n",
            "  if not hasattr(array, \"sparse\") and array.dtypes.apply(is_sparse).any():\n",
            "c:\\Users\\hasanov\\AppData\\Local\\anaconda3\\envs\\faiss\\Lib\\site-packages\\sklearn\\utils\\validation.py:605: FutureWarning: is_sparse is deprecated and will be removed in a future version. Check `isinstance(dtype, pd.SparseDtype)` instead.\n",
            "  if is_sparse(pd_dtype):\n",
            "c:\\Users\\hasanov\\AppData\\Local\\anaconda3\\envs\\faiss\\Lib\\site-packages\\sklearn\\utils\\validation.py:614: FutureWarning: is_sparse is deprecated and will be removed in a future version. Check `isinstance(dtype, pd.SparseDtype)` instead.\n",
            "  if is_sparse(pd_dtype) or not is_extension_array_dtype(pd_dtype):\n",
            "c:\\Users\\hasanov\\AppData\\Local\\anaconda3\\envs\\faiss\\Lib\\site-packages\\sklearn\\utils\\validation.py:767: FutureWarning: is_sparse is deprecated and will be removed in a future version. Check `isinstance(dtype, pd.SparseDtype)` instead.\n",
            "  if not hasattr(array, \"sparse\") and array.dtypes.apply(is_sparse).any():\n",
            "c:\\Users\\hasanov\\AppData\\Local\\anaconda3\\envs\\faiss\\Lib\\site-packages\\sklearn\\utils\\validation.py:605: FutureWarning: is_sparse is deprecated and will be removed in a future version. Check `isinstance(dtype, pd.SparseDtype)` instead.\n",
            "  if is_sparse(pd_dtype):\n",
            "c:\\Users\\hasanov\\AppData\\Local\\anaconda3\\envs\\faiss\\Lib\\site-packages\\sklearn\\utils\\validation.py:614: FutureWarning: is_sparse is deprecated and will be removed in a future version. Check `isinstance(dtype, pd.SparseDtype)` instead.\n",
            "  if is_sparse(pd_dtype) or not is_extension_array_dtype(pd_dtype):\n"
          ]
        }
      ],
      "source": [
        "features_train = df_train_norm.drop('Target', axis=1)\n",
        "target_train = df_train_norm['Target']\n",
        "\n",
        "scaler = RobustScaler()\n",
        "df_base_robust = scaler.fit_transform(df_base_norm)\n",
        "features_train_robust = scaler.transform(features_train)\n",
        "\n",
        "df_base_robust_np = np.ascontiguousarray(df_base_robust)\n",
        "features_train_robust_np = np.ascontiguousarray(features_train_robust)\n",
        "\n",
        "dims_norm = df_base_norm.shape[1]"
      ]
    },
    {
      "cell_type": "markdown",
      "metadata": {},
      "source": [
        "### Манхетоновское"
      ]
    },
    {
      "cell_type": "code",
      "execution_count": 71,
      "metadata": {},
      "outputs": [],
      "source": [
        "idx_flatL1 = faiss.IndexFlat(dims_norm, faiss.METRIC_L1)\n",
        "idx_flatL1_gpu = faiss.index_cpu_to_gpu_multiple_py(gpu, idx_flatL1)\n",
        "idx_flatL1_gpu.add(df_base_robust_np)"
      ]
    },
    {
      "cell_type": "code",
      "execution_count": 72,
      "metadata": {},
      "outputs": [
        {
          "name": "stdout",
          "output_type": "stream",
          "text": [
            "CPU times: total: 59.5 s\n",
            "Wall time: 59.4 s\n"
          ]
        }
      ],
      "source": [
        "%%time\n",
        "vecs, idx = idx_flatL1_gpu.search(features_train_robust_np, k_nearest)"
      ]
    },
    {
      "cell_type": "code",
      "execution_count": 73,
      "metadata": {},
      "outputs": [
        {
          "name": "stdout",
          "output_type": "stream",
          "text": [
            "Для модели Flat(расстояние L1) accuracy@5 = 70.70%\n"
          ]
        }
      ],
      "source": [
        "accuracy_flatL1 = accuracy5(target_train.values, idx, base_index)\n",
        "print(f'Для модели Flat(расстояние L1) accuracy@5 = {accuracy_flatL1:.2%}')"
      ]
    },
    {
      "cell_type": "markdown",
      "metadata": {},
      "source": [
        "В результате замены Евклидова расстояния на Манхетоновское расстояние метрика упала до `accuracy@5 = 70.70%` "
      ]
    },
    {
      "cell_type": "markdown",
      "metadata": {},
      "source": [
        "### Максимальное скалярное произведение"
      ]
    },
    {
      "cell_type": "code",
      "execution_count": 74,
      "metadata": {},
      "outputs": [],
      "source": [
        "idx_flatIP = faiss.IndexFlatIP(dims_norm)\n",
        "idx_flatIP_gpu = faiss.index_cpu_to_gpu_multiple_py(gpu, idx_flatIP)\n",
        "idx_flatIP_gpu.add(df_base_robust_np)"
      ]
    },
    {
      "cell_type": "code",
      "execution_count": 75,
      "metadata": {},
      "outputs": [
        {
          "name": "stdout",
          "output_type": "stream",
          "text": [
            "CPU times: total: 10.8 s\n",
            "Wall time: 10.7 s\n"
          ]
        }
      ],
      "source": [
        "%%time\n",
        "vecs, idx = idx_flatIP_gpu.search(features_train_robust_np, k_nearest)"
      ]
    },
    {
      "cell_type": "code",
      "execution_count": 76,
      "metadata": {},
      "outputs": [
        {
          "name": "stdout",
          "output_type": "stream",
          "text": [
            "Для модели Flat(расстояние IP) accuracy@5 = 66.98%\n"
          ]
        }
      ],
      "source": [
        "accuracy_flatIP = accuracy5(target_train.values, idx, base_index)\n",
        "print(f'Для модели Flat(расстояние IP) accuracy@5 = {accuracy_flatIP:.2%}')"
      ]
    },
    {
      "cell_type": "markdown",
      "metadata": {},
      "source": [
        "В результате замены Евклидова расстояния на Максимальное скалярное произведение метрика упала до `accuracy@5 = 66.98%` "
      ]
    },
    {
      "cell_type": "markdown",
      "metadata": {},
      "source": [
        "### Вывод"
      ]
    },
    {
      "cell_type": "markdown",
      "metadata": {},
      "source": [
        "Таким образом, лучшая метрика достигается с помощью Евклидова расстояния"
      ]
    },
    {
      "cell_type": "markdown",
      "metadata": {},
      "source": [
        "# Конструирование финальной модели"
      ]
    },
    {
      "cell_type": "markdown",
      "metadata": {},
      "source": [
        "Таким образом, лучшей является модель:\n",
        "* Flat  \n",
        "* В качестве расстояние используем Евклидово расстояние   \n",
        "* Удаляем признаки, которые распределены не нормально  \n",
        "* Применяем RobustScaler"
      ]
    },
    {
      "cell_type": "code",
      "execution_count": 77,
      "metadata": {},
      "outputs": [],
      "source": [
        "df_valid_norm = df_valid[df_base_norm.columns]"
      ]
    },
    {
      "cell_type": "code",
      "execution_count": 80,
      "metadata": {},
      "outputs": [
        {
          "name": "stderr",
          "output_type": "stream",
          "text": [
            "c:\\Users\\hasanov\\AppData\\Local\\anaconda3\\envs\\faiss\\Lib\\site-packages\\sklearn\\utils\\validation.py:767: FutureWarning: is_sparse is deprecated and will be removed in a future version. Check `isinstance(dtype, pd.SparseDtype)` instead.\n",
            "  if not hasattr(array, \"sparse\") and array.dtypes.apply(is_sparse).any():\n",
            "c:\\Users\\hasanov\\AppData\\Local\\anaconda3\\envs\\faiss\\Lib\\site-packages\\sklearn\\utils\\validation.py:605: FutureWarning: is_sparse is deprecated and will be removed in a future version. Check `isinstance(dtype, pd.SparseDtype)` instead.\n",
            "  if is_sparse(pd_dtype):\n",
            "c:\\Users\\hasanov\\AppData\\Local\\anaconda3\\envs\\faiss\\Lib\\site-packages\\sklearn\\utils\\validation.py:614: FutureWarning: is_sparse is deprecated and will be removed in a future version. Check `isinstance(dtype, pd.SparseDtype)` instead.\n",
            "  if is_sparse(pd_dtype) or not is_extension_array_dtype(pd_dtype):\n",
            "c:\\Users\\hasanov\\AppData\\Local\\anaconda3\\envs\\faiss\\Lib\\site-packages\\sklearn\\utils\\validation.py:767: FutureWarning: is_sparse is deprecated and will be removed in a future version. Check `isinstance(dtype, pd.SparseDtype)` instead.\n",
            "  if not hasattr(array, \"sparse\") and array.dtypes.apply(is_sparse).any():\n",
            "c:\\Users\\hasanov\\AppData\\Local\\anaconda3\\envs\\faiss\\Lib\\site-packages\\sklearn\\utils\\validation.py:605: FutureWarning: is_sparse is deprecated and will be removed in a future version. Check `isinstance(dtype, pd.SparseDtype)` instead.\n",
            "  if is_sparse(pd_dtype):\n",
            "c:\\Users\\hasanov\\AppData\\Local\\anaconda3\\envs\\faiss\\Lib\\site-packages\\sklearn\\utils\\validation.py:614: FutureWarning: is_sparse is deprecated and will be removed in a future version. Check `isinstance(dtype, pd.SparseDtype)` instead.\n",
            "  if is_sparse(pd_dtype) or not is_extension_array_dtype(pd_dtype):\n",
            "c:\\Users\\hasanov\\AppData\\Local\\anaconda3\\envs\\faiss\\Lib\\site-packages\\sklearn\\utils\\validation.py:767: FutureWarning: is_sparse is deprecated and will be removed in a future version. Check `isinstance(dtype, pd.SparseDtype)` instead.\n",
            "  if not hasattr(array, \"sparse\") and array.dtypes.apply(is_sparse).any():\n",
            "c:\\Users\\hasanov\\AppData\\Local\\anaconda3\\envs\\faiss\\Lib\\site-packages\\sklearn\\utils\\validation.py:605: FutureWarning: is_sparse is deprecated and will be removed in a future version. Check `isinstance(dtype, pd.SparseDtype)` instead.\n",
            "  if is_sparse(pd_dtype):\n",
            "c:\\Users\\hasanov\\AppData\\Local\\anaconda3\\envs\\faiss\\Lib\\site-packages\\sklearn\\utils\\validation.py:614: FutureWarning: is_sparse is deprecated and will be removed in a future version. Check `isinstance(dtype, pd.SparseDtype)` instead.\n",
            "  if is_sparse(pd_dtype) or not is_extension_array_dtype(pd_dtype):\n"
          ]
        }
      ],
      "source": [
        "features_valid = df_valid_norm.copy()\n",
        "target_valid = df_valid_ans['Expected']\n",
        "\n",
        "scaler = RobustScaler()\n",
        "df_base_robust = scaler.fit_transform(df_base_norm)\n",
        "features_valid_robust = scaler.transform(features_valid)\n",
        "\n",
        "df_base_robust_np = np.ascontiguousarray(df_base_robust)\n",
        "features_valid_robust_np = np.ascontiguousarray(features_valid_robust)\n",
        "\n",
        "dims_norm = df_base_norm.shape[1]"
      ]
    },
    {
      "cell_type": "code",
      "execution_count": 81,
      "metadata": {},
      "outputs": [],
      "source": [
        "idx_final_model = faiss.IndexFlatL2(dims_norm)\n",
        "idx_final_model_gpu = faiss.index_cpu_to_gpu_multiple_py(gpu, idx_final_model)\n",
        "idx_final_model_gpu.add(df_base_robust_np)"
      ]
    },
    {
      "cell_type": "code",
      "execution_count": 82,
      "metadata": {},
      "outputs": [
        {
          "name": "stdout",
          "output_type": "stream",
          "text": [
            "CPU times: total: 7.58 s\n",
            "Wall time: 10.9 s\n"
          ]
        }
      ],
      "source": [
        "%%time\n",
        "vecs, idx = idx_final_model_gpu.search(features_valid_robust_np, k_nearest)"
      ]
    },
    {
      "cell_type": "code",
      "execution_count": 83,
      "metadata": {},
      "outputs": [
        {
          "name": "stdout",
          "output_type": "stream",
          "text": [
            "Для модели финальной модели на тестовой выборке accuracy@5 = 70.94%\n"
          ]
        }
      ],
      "source": [
        "accuracy_final = accuracy5(target_valid.values, idx, base_index)\n",
        "print(f'Для модели финальной модели на тестовой выборке accuracy@5 = {accuracy_final:.2%}')"
      ]
    },
    {
      "cell_type": "markdown",
      "metadata": {},
      "source": [
        "# Вывод"
      ]
    },
    {
      "cell_type": "markdown",
      "metadata": {},
      "source": [
        "В ходе работы была решина задача метчинга. Для решения использовалась библиотека Faiss. Из библиотеки использовались модели: `Flat`, `IVF`, `HNSW`. Сразу была отсеена модель `HNSW` по причине того, что показывала результаты хуже. Модели `Flat`, `IVF` были изучены дополнительно:  \n",
        "* Пробовал удалять признаки, которые не распределены нормально  \n",
        "* Пробовал избавляться от мультиколлениарности  \n",
        "* Пробовал преобразовывать признаки с помощью RobustScaler, StandardScaler, MinMaxScaler  \n",
        "* Пробовал различные метрики расстояния: Евклидово, Манхетоновское, максимальное скалярное произведение  \n",
        "\n",
        "В итоге лучшая модель была получена с помощью:\n",
        "1. Использовать модель `Flat`\n",
        "2. Удалить все признаки, которые не распределены нормально  \n",
        "3. К числовым признакам применить RobustScaler  \n",
        "4. В качесве расстояния использовать Евклидово расстояние  \n",
        "\n",
        "У такой модели метрика равна:  \n",
        "1. На тренировочной выборке `accuracy@5 = 71.05%`.  \n",
        "2. На тестовой выборке `accuracy@5 = 70.94%`"
      ]
    },
    {
      "cell_type": "markdown",
      "metadata": {},
      "source": []
    }
  ],
  "metadata": {
    "accelerator": "GPU",
    "colab": {
      "gpuType": "T4",
      "provenance": []
    },
    "kernelspec": {
      "display_name": "Python 3",
      "name": "python3"
    },
    "language_info": {
      "codemirror_mode": {
        "name": "ipython",
        "version": 3
      },
      "file_extension": ".py",
      "mimetype": "text/x-python",
      "name": "python",
      "nbconvert_exporter": "python",
      "pygments_lexer": "ipython3",
      "version": "3.11.5"
    }
  },
  "nbformat": 4,
  "nbformat_minor": 0
}
